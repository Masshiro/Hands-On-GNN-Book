{
  "cells": [
    {
      "attachments": {},
      "cell_type": "markdown",
      "metadata": {
        "id": "ITQSdBzjHqZo"
      },
      "source": [
        "# Improving Embeddings with Biased Random Walks in Node2Vec"
      ]
    },
    {
      "cell_type": "code",
      "execution_count": null,
      "metadata": {},
      "outputs": [],
      "source": [
        "# !pip install -q node2vec==0.4.6\n",
        "# !pip install -qI gensim==4.3.0"
      ]
    },
    {
      "cell_type": "code",
      "execution_count": 5,
      "metadata": {
        "colab": {
          "base_uri": "https://localhost:8080/",
          "height": 983
        },
        "id": "mh8CcD92oFPB",
        "outputId": "c595cf3f-5fbc-4f41-ef47-62ee8f63eb65"
      },
      "outputs": [
        {
          "data": {
            "image/png": "[encoded data removed]",
            "text/plain": [
              "<Figure size 432x288 with 1 Axes>"
            ]
          },
          "metadata": {},
          "output_type": "display_data"
        }
      ],
      "source": [
        "import networkx as nx\n",
        "import matplotlib.pyplot as plt\n",
        "\n",
        "# Create graph\n",
        "G = nx.erdos_renyi_graph(10, 0.3, seed=1, directed=False)  # 10 nodes & creating an edge btw two nodes with Pr as 0.3\n",
        "\n",
        "# Plot graph\n",
        "plt.figure()\n",
        "plt.axis('off')\n",
        "nx.draw_networkx(G,\n",
        "                 pos=nx.spring_layout(G, seed=0),\n",
        "                 node_size=600,\n",
        "                 cmap='coolwarm',\n",
        "                 font_size=14,\n",
        "                 font_color='white'\n",
        "                 )"
      ]
    },
    {
      "cell_type": "code",
      "execution_count": 6,
      "metadata": {
        "id": "8SLH3SoHG8zV"
      },
      "outputs": [],
      "source": [
        "import random\n",
        "random.seed(0)\n",
        "import numpy as np\n",
        "np.random.seed(0)\n",
        "\n",
        "def next_node(previous, current, p, q):\n",
        "    alphas = []\n",
        "\n",
        "    # Get the neighboring nodes\n",
        "    neighbors = list(G.neighbors(current))\n",
        "    \n",
        "    # Calculate the appropriate alpha value for each neighbor\n",
        "    for neighbor in neighbors:\n",
        "        # Distance = 0: probability to return to the previous node\n",
        "        if neighbor == previous:\n",
        "            alpha = 1/p\n",
        "        # Distance = 1: probability of visiting a local node\n",
        "        elif G.has_edge(neighbor, previous):\n",
        "            alpha = 1\n",
        "        # Distance = 2: probability to explore an unknown node\n",
        "        else:\n",
        "            alpha = 1/q\n",
        "        alphas.append(alpha)\n",
        "\n",
        "    # Normalize the alpha values to create transition probabilities\n",
        "    probs = [alpha / sum(alphas) for alpha in alphas]\n",
        "    \n",
        "    # Randomly select the new node based on the transition probabilities\n",
        "    next = np.random.choice(neighbors, size=1, p=probs)[0]\n",
        "    return next"
      ]
    },
    {
      "cell_type": "code",
      "execution_count": 7,
      "metadata": {
        "id": "RWOSysh41bBi"
      },
      "outputs": [],
      "source": [
        "def random_walk(start, length, p, q):\n",
        "    walk = [start]\n",
        "    \n",
        "    for i in range(length):\n",
        "        current = walk[-1]\n",
        "        previous = walk[-2] if len(walk) > 1 else None\n",
        "        next = next_node(previous, current, p, q)\n",
        "        walk.append(next)\n",
        "    \n",
        "    return walk"
      ]
    },
    {
      "cell_type": "code",
      "execution_count": 10,
      "metadata": {
        "colab": {
          "base_uri": "https://localhost:8080/"
        },
        "id": "oHhdyOU6yJvj",
        "outputId": "af0a470a-2d77-47e7-e47d-05b7d02a3cb1"
      },
      "outputs": [
        {
          "data": {
            "text/plain": [
              "[0, 1, 9, 4, 9, 4, 7, 4, 7]"
            ]
          },
          "execution_count": 10,
          "metadata": {},
          "output_type": "execute_result"
        }
      ],
      "source": [
        "random_walk(0, 8, p=1, q=1)"
      ]
    },
    {
      "cell_type": "code",
      "execution_count": 6,
      "metadata": {
        "colab": {
          "base_uri": "https://localhost:8080/"
        },
        "id": "iVQx-eHZ6489",
        "outputId": "37163596-7dc9-4f2e-a457-b041f78bf301"
      },
      "outputs": [
        {
          "data": {
            "text/plain": [
              "[0, 9, 1, 9, 1, 9, 1, 0, 1]"
            ]
          },
          "execution_count": 6,
          "metadata": {},
          "output_type": "execute_result"
        }
      ],
      "source": [
        "random_walk(0, 8, p=1, q=10)"
      ]
    },
    {
      "cell_type": "code",
      "execution_count": 7,
      "metadata": {
        "colab": {
          "base_uri": "https://localhost:8080/"
        },
        "id": "X7gTKpm-7HvY",
        "outputId": "ca96cf0a-cb8d-4094-c9a4-90681a36e1c8"
      },
      "outputs": [
        {
          "data": {
            "text/plain": [
              "[0, 1, 9, 4, 7, 8, 7, 4, 6]"
            ]
          },
          "execution_count": 7,
          "metadata": {},
          "output_type": "execute_result"
        }
      ],
      "source": [
        "random_walk(0, 8, p=10, q=1)"
      ]
    },
    {
      "cell_type": "code",
      "execution_count": 8,
      "metadata": {
        "colab": {
          "base_uri": "https://localhost:8080/"
        },
        "id": "YwdzUchynGji",
        "outputId": "dd6b8df6-e3ba-4bdb-eb20-ede3428e017a"
      },
      "outputs": [
        {
          "name": "stdout",
          "output_type": "stream",
          "text": [
            "Node2Vec accuracy = 95.45%\n"
          ]
        }
      ],
      "source": [
        "from gensim.models.word2vec import Word2Vec\n",
        "from sklearn.ensemble import RandomForestClassifier\n",
        "from sklearn.metrics import accuracy_score\n",
        "\n",
        "# Load dataset\n",
        "G = nx.karate_club_graph()\n",
        "\n",
        "# Process labels (Mr. Hi = 0, Officer = 1)\n",
        "labels = []\n",
        "for node in G.nodes:\n",
        "    label = G.nodes[node]['club']\n",
        "    labels.append(1 if label == 'Officer' else 0)\n",
        "\n",
        "# Create a list of random walks\n",
        "walks = []\n",
        "for node in G.nodes:\n",
        "    for _ in range(80):\n",
        "        walks.append(random_walk(node, 10, 3, 2))\n",
        "\n",
        "# Create and train Word2Vec for DeepWalk\n",
        "node2vec = Word2Vec(walks,\n",
        "                hs=1,   # Hierarchical softmax\n",
        "                sg=1,   # Skip-gram\n",
        "                vector_size=100,\n",
        "                window=10,\n",
        "                workers=2,\n",
        "                min_count=1,\n",
        "                seed=0)\n",
        "node2vec.train(walks, total_examples=node2vec.corpus_count, epochs=30, report_delay=1)\n",
        "\n",
        "# Create masks to train and test the model\n",
        "train_mask = [2, 4, 6, 8, 10, 12, 14, 16, 18, 20, 22, 24]\n",
        "test_mask = [0, 1, 3, 5, 7, 9, 11, 13, 15, 17, 19, 21, 23, 25, 26, 27, 28, 29, 30, 31, 32, 33]\n",
        "labels = np.array(labels)\n",
        "\n",
        "# Train Node2Vec classifier\n",
        "clf = RandomForestClassifier(random_state=0)\n",
        "clf.fit(node2vec.wv[train_mask], labels[train_mask])\n",
        "\n",
        "# Evaluate accuracy\n",
        "y_pred = clf.predict(node2vec.wv[test_mask])\n",
        "acc = accuracy_score(y_pred, labels[test_mask])\n",
        "print(f'Node2Vec accuracy = {acc*100:.2f}%')"
      ]
    },
    {
      "cell_type": "code",
      "execution_count": 9,
      "metadata": {
        "colab": {
          "base_uri": "https://localhost:8080/"
        },
        "id": "BH_kxHi3n6-c",
        "outputId": "df83bf1a-30c9-4eee-b522-e6c2d056b523"
      },
      "outputs": [],
      "source": [
        "from io import BytesIO\n",
        "from urllib.request import urlopen\n",
        "from zipfile import ZipFile\n",
        "\n",
        "url = 'https://files.grouplens.org/datasets/movielens/ml-100k.zip'\n",
        "with urlopen(url) as zurl:\n",
        "    with ZipFile(BytesIO(zurl.read())) as zfile:\n",
        "        zfile.extractall('.')"
      ]
    },
    {
      "cell_type": "code",
      "execution_count": 10,
      "metadata": {
        "colab": {
          "base_uri": "https://localhost:8080/",
          "height": 424
        },
        "id": "ECKHNh1opdhO",
        "outputId": "1e38d425-7297-47ec-9f6f-6d06c142fd14"
      },
      "outputs": [
        {
          "data": {
            "text/html": [
              "<div>\n",
              "<style scoped>\n",
              "    .dataframe tbody tr th:only-of-type {\n",
              "        vertical-align: middle;\n",
              "    }\n",
              "\n",
              "    .dataframe tbody tr th {\n",
              "        vertical-align: top;\n",
              "    }\n",
              "\n",
              "    .dataframe thead th {\n",
              "        text-align: right;\n",
              "    }\n",
              "</style>\n",
              "<table border=\"1\" class=\"dataframe\">\n",
              "  <thead>\n",
              "    <tr style=\"text-align: right;\">\n",
              "      <th></th>\n",
              "      <th>user_id</th>\n",
              "      <th>movie_id</th>\n",
              "      <th>rating</th>\n",
              "      <th>unix_timestamp</th>\n",
              "    </tr>\n",
              "  </thead>\n",
              "  <tbody>\n",
              "    <tr>\n",
              "      <th>0</th>\n",
              "      <td>196</td>\n",
              "      <td>242</td>\n",
              "      <td>3</td>\n",
              "      <td>881250949</td>\n",
              "    </tr>\n",
              "    <tr>\n",
              "      <th>1</th>\n",
              "      <td>186</td>\n",
              "      <td>302</td>\n",
              "      <td>3</td>\n",
              "      <td>891717742</td>\n",
              "    </tr>\n",
              "    <tr>\n",
              "      <th>2</th>\n",
              "      <td>22</td>\n",
              "      <td>377</td>\n",
              "      <td>1</td>\n",
              "      <td>878887116</td>\n",
              "    </tr>\n",
              "    <tr>\n",
              "      <th>3</th>\n",
              "      <td>244</td>\n",
              "      <td>51</td>\n",
              "      <td>2</td>\n",
              "      <td>880606923</td>\n",
              "    </tr>\n",
              "    <tr>\n",
              "      <th>4</th>\n",
              "      <td>166</td>\n",
              "      <td>346</td>\n",
              "      <td>1</td>\n",
              "      <td>886397596</td>\n",
              "    </tr>\n",
              "    <tr>\n",
              "      <th>...</th>\n",
              "      <td>...</td>\n",
              "      <td>...</td>\n",
              "      <td>...</td>\n",
              "      <td>...</td>\n",
              "    </tr>\n",
              "    <tr>\n",
              "      <th>99995</th>\n",
              "      <td>880</td>\n",
              "      <td>476</td>\n",
              "      <td>3</td>\n",
              "      <td>880175444</td>\n",
              "    </tr>\n",
              "    <tr>\n",
              "      <th>99996</th>\n",
              "      <td>716</td>\n",
              "      <td>204</td>\n",
              "      <td>5</td>\n",
              "      <td>879795543</td>\n",
              "    </tr>\n",
              "    <tr>\n",
              "      <th>99997</th>\n",
              "      <td>276</td>\n",
              "      <td>1090</td>\n",
              "      <td>1</td>\n",
              "      <td>874795795</td>\n",
              "    </tr>\n",
              "    <tr>\n",
              "      <th>99998</th>\n",
              "      <td>13</td>\n",
              "      <td>225</td>\n",
              "      <td>2</td>\n",
              "      <td>882399156</td>\n",
              "    </tr>\n",
              "    <tr>\n",
              "      <th>99999</th>\n",
              "      <td>12</td>\n",
              "      <td>203</td>\n",
              "      <td>3</td>\n",
              "      <td>879959583</td>\n",
              "    </tr>\n",
              "  </tbody>\n",
              "</table>\n",
              "<p>100000 rows × 4 columns</p>\n",
              "</div>"
            ],
            "text/plain": [
              "       user_id  movie_id  rating  unix_timestamp\n",
              "0          196       242       3       881250949\n",
              "1          186       302       3       891717742\n",
              "2           22       377       1       878887116\n",
              "3          244        51       2       880606923\n",
              "4          166       346       1       886397596\n",
              "...        ...       ...     ...             ...\n",
              "99995      880       476       3       880175444\n",
              "99996      716       204       5       879795543\n",
              "99997      276      1090       1       874795795\n",
              "99998       13       225       2       882399156\n",
              "99999       12       203       3       879959583\n",
              "\n",
              "[100000 rows x 4 columns]"
            ]
          },
          "execution_count": 10,
          "metadata": {},
          "output_type": "execute_result"
        }
      ],
      "source": [
        "import pandas as pd\n",
        "\n",
        "ratings = pd.read_csv('ml-100k/u.data', sep='\\t', names=['user_id', 'movie_id', 'rating', 'unix_timestamp'])\n",
        "ratings"
      ]
    },
    {
      "cell_type": "code",
      "execution_count": 11,
      "metadata": {
        "colab": {
          "base_uri": "https://localhost:8080/",
          "height": 424
        },
        "id": "8MVzt96-zX5w",
        "outputId": "2479d79e-dfd8-4373-f3e4-fb9be7b56d90"
      },
      "outputs": [
        {
          "data": {
            "text/html": [
              "<div>\n",
              "<style scoped>\n",
              "    .dataframe tbody tr th:only-of-type {\n",
              "        vertical-align: middle;\n",
              "    }\n",
              "\n",
              "    .dataframe tbody tr th {\n",
              "        vertical-align: top;\n",
              "    }\n",
              "\n",
              "    .dataframe thead th {\n",
              "        text-align: right;\n",
              "    }\n",
              "</style>\n",
              "<table border=\"1\" class=\"dataframe\">\n",
              "  <thead>\n",
              "    <tr style=\"text-align: right;\">\n",
              "      <th></th>\n",
              "      <th>movie_id</th>\n",
              "      <th>title</th>\n",
              "    </tr>\n",
              "  </thead>\n",
              "  <tbody>\n",
              "    <tr>\n",
              "      <th>0</th>\n",
              "      <td>1</td>\n",
              "      <td>Toy Story (1995)</td>\n",
              "    </tr>\n",
              "    <tr>\n",
              "      <th>1</th>\n",
              "      <td>2</td>\n",
              "      <td>GoldenEye (1995)</td>\n",
              "    </tr>\n",
              "    <tr>\n",
              "      <th>2</th>\n",
              "      <td>3</td>\n",
              "      <td>Four Rooms (1995)</td>\n",
              "    </tr>\n",
              "    <tr>\n",
              "      <th>3</th>\n",
              "      <td>4</td>\n",
              "      <td>Get Shorty (1995)</td>\n",
              "    </tr>\n",
              "    <tr>\n",
              "      <th>4</th>\n",
              "      <td>5</td>\n",
              "      <td>Copycat (1995)</td>\n",
              "    </tr>\n",
              "    <tr>\n",
              "      <th>...</th>\n",
              "      <td>...</td>\n",
              "      <td>...</td>\n",
              "    </tr>\n",
              "    <tr>\n",
              "      <th>1677</th>\n",
              "      <td>1678</td>\n",
              "      <td>Mat' i syn (1997)</td>\n",
              "    </tr>\n",
              "    <tr>\n",
              "      <th>1678</th>\n",
              "      <td>1679</td>\n",
              "      <td>B. Monkey (1998)</td>\n",
              "    </tr>\n",
              "    <tr>\n",
              "      <th>1679</th>\n",
              "      <td>1680</td>\n",
              "      <td>Sliding Doors (1998)</td>\n",
              "    </tr>\n",
              "    <tr>\n",
              "      <th>1680</th>\n",
              "      <td>1681</td>\n",
              "      <td>You So Crazy (1994)</td>\n",
              "    </tr>\n",
              "    <tr>\n",
              "      <th>1681</th>\n",
              "      <td>1682</td>\n",
              "      <td>Scream of Stone (Schrei aus Stein) (1991)</td>\n",
              "    </tr>\n",
              "  </tbody>\n",
              "</table>\n",
              "<p>1682 rows × 2 columns</p>\n",
              "</div>"
            ],
            "text/plain": [
              "      movie_id                                      title\n",
              "0            1                           Toy Story (1995)\n",
              "1            2                           GoldenEye (1995)\n",
              "2            3                          Four Rooms (1995)\n",
              "3            4                          Get Shorty (1995)\n",
              "4            5                             Copycat (1995)\n",
              "...        ...                                        ...\n",
              "1677      1678                          Mat' i syn (1997)\n",
              "1678      1679                           B. Monkey (1998)\n",
              "1679      1680                       Sliding Doors (1998)\n",
              "1680      1681                        You So Crazy (1994)\n",
              "1681      1682  Scream of Stone (Schrei aus Stein) (1991)\n",
              "\n",
              "[1682 rows x 2 columns]"
            ]
          },
          "execution_count": 11,
          "metadata": {},
          "output_type": "execute_result"
        }
      ],
      "source": [
        "movies = pd.read_csv('ml-100k/u.item', sep='|', usecols=range(2), names=['movie_id', 'title'], encoding='latin-1')\n",
        "movies"
      ]
    },
    {
      "cell_type": "code",
      "execution_count": 12,
      "metadata": {
        "colab": {
          "base_uri": "https://localhost:8080/",
          "height": 424
        },
        "id": "QWUWEx_8zpNX",
        "outputId": "0b8e88af-3b1c-482d-9715-d32e8dd7ac63"
      },
      "outputs": [
        {
          "data": {
            "text/html": [
              "<div>\n",
              "<style scoped>\n",
              "    .dataframe tbody tr th:only-of-type {\n",
              "        vertical-align: middle;\n",
              "    }\n",
              "\n",
              "    .dataframe tbody tr th {\n",
              "        vertical-align: top;\n",
              "    }\n",
              "\n",
              "    .dataframe thead th {\n",
              "        text-align: right;\n",
              "    }\n",
              "</style>\n",
              "<table border=\"1\" class=\"dataframe\">\n",
              "  <thead>\n",
              "    <tr style=\"text-align: right;\">\n",
              "      <th></th>\n",
              "      <th>user_id</th>\n",
              "      <th>movie_id</th>\n",
              "      <th>rating</th>\n",
              "      <th>unix_timestamp</th>\n",
              "    </tr>\n",
              "  </thead>\n",
              "  <tbody>\n",
              "    <tr>\n",
              "      <th>5</th>\n",
              "      <td>298</td>\n",
              "      <td>474</td>\n",
              "      <td>4</td>\n",
              "      <td>884182806</td>\n",
              "    </tr>\n",
              "    <tr>\n",
              "      <th>7</th>\n",
              "      <td>253</td>\n",
              "      <td>465</td>\n",
              "      <td>5</td>\n",
              "      <td>891628467</td>\n",
              "    </tr>\n",
              "    <tr>\n",
              "      <th>11</th>\n",
              "      <td>286</td>\n",
              "      <td>1014</td>\n",
              "      <td>5</td>\n",
              "      <td>879781125</td>\n",
              "    </tr>\n",
              "    <tr>\n",
              "      <th>12</th>\n",
              "      <td>200</td>\n",
              "      <td>222</td>\n",
              "      <td>5</td>\n",
              "      <td>876042340</td>\n",
              "    </tr>\n",
              "    <tr>\n",
              "      <th>16</th>\n",
              "      <td>122</td>\n",
              "      <td>387</td>\n",
              "      <td>5</td>\n",
              "      <td>879270459</td>\n",
              "    </tr>\n",
              "    <tr>\n",
              "      <th>...</th>\n",
              "      <td>...</td>\n",
              "      <td>...</td>\n",
              "      <td>...</td>\n",
              "      <td>...</td>\n",
              "    </tr>\n",
              "    <tr>\n",
              "      <th>99988</th>\n",
              "      <td>421</td>\n",
              "      <td>498</td>\n",
              "      <td>4</td>\n",
              "      <td>892241344</td>\n",
              "    </tr>\n",
              "    <tr>\n",
              "      <th>99989</th>\n",
              "      <td>495</td>\n",
              "      <td>1091</td>\n",
              "      <td>4</td>\n",
              "      <td>888637503</td>\n",
              "    </tr>\n",
              "    <tr>\n",
              "      <th>99990</th>\n",
              "      <td>806</td>\n",
              "      <td>421</td>\n",
              "      <td>4</td>\n",
              "      <td>882388897</td>\n",
              "    </tr>\n",
              "    <tr>\n",
              "      <th>99991</th>\n",
              "      <td>676</td>\n",
              "      <td>538</td>\n",
              "      <td>4</td>\n",
              "      <td>892685437</td>\n",
              "    </tr>\n",
              "    <tr>\n",
              "      <th>99996</th>\n",
              "      <td>716</td>\n",
              "      <td>204</td>\n",
              "      <td>5</td>\n",
              "      <td>879795543</td>\n",
              "    </tr>\n",
              "  </tbody>\n",
              "</table>\n",
              "<p>55375 rows × 4 columns</p>\n",
              "</div>"
            ],
            "text/plain": [
              "       user_id  movie_id  rating  unix_timestamp\n",
              "5          298       474       4       884182806\n",
              "7          253       465       5       891628467\n",
              "11         286      1014       5       879781125\n",
              "12         200       222       5       876042340\n",
              "16         122       387       5       879270459\n",
              "...        ...       ...     ...             ...\n",
              "99988      421       498       4       892241344\n",
              "99989      495      1091       4       888637503\n",
              "99990      806       421       4       882388897\n",
              "99991      676       538       4       892685437\n",
              "99996      716       204       5       879795543\n",
              "\n",
              "[55375 rows x 4 columns]"
            ]
          },
          "execution_count": 12,
          "metadata": {},
          "output_type": "execute_result"
        }
      ],
      "source": [
        "# Only consider ratings with the highest score\n",
        "ratings = ratings[ratings.rating >= 4]\n",
        "ratings"
      ]
    },
    {
      "cell_type": "code",
      "execution_count": 13,
      "metadata": {
        "id": "1IJMriwWpwMO"
      },
      "outputs": [],
      "source": [
        "from collections import defaultdict\n",
        "\n",
        "pairs = defaultdict(int)\n",
        "\n",
        "# Loop through the entire list of users\n",
        "for group in ratings.groupby(\"user_id\"):\n",
        "    # List of IDs of movies rated by the current user\n",
        "    user_movies = list(group[1][\"movie_id\"])\n",
        "\n",
        "    # Count every time two movies are seen together\n",
        "    for i in range(len(user_movies)):\n",
        "        for j in range(i+1, len(user_movies)):\n",
        "            pairs[(user_movies[i], user_movies[j])] += 1"
      ]
    },
    {
      "cell_type": "code",
      "execution_count": 14,
      "metadata": {
        "colab": {
          "base_uri": "https://localhost:8080/"
        },
        "id": "6Kzw5h3MqGFu",
        "outputId": "b5d3af56-2d5e-4940-edde-4929ac0621bd"
      },
      "outputs": [
        {
          "name": "stdout",
          "output_type": "stream",
          "text": [
            "Total number of graph nodes: 410\n",
            "Total number of graph edges: 14936\n"
          ]
        }
      ],
      "source": [
        "# Create a networkx graph\n",
        "G = nx.Graph()\n",
        "\n",
        "# Try to create an edge between movies that are liked together\n",
        "for pair in pairs:\n",
        "    movie1, movie2 = pair\n",
        "    score = pairs[pair]\n",
        "\n",
        "    # The edge is only created when the score is high enough\n",
        "    if score >= 20:\n",
        "        G.add_edge(movie1, movie2, weight=score)\n",
        "\n",
        "print(\"Total number of graph nodes:\", G.number_of_nodes())\n",
        "print(\"Total number of graph edges:\", G.number_of_edges())"
      ]
    },
    {
      "cell_type": "code",
      "execution_count": 15,
      "metadata": {
        "colab": {
          "base_uri": "https://localhost:8080/",
          "height": 122,
          "referenced_widgets": [
            "eeb0f16e73a44771a4cd98b296a2f504",
            "7cfb833108bb4948bd900d8ea79f6ea7",
            "90e8a5c45e93473d8566096dcda21b00",
            "0214cb6383934ef1856188a9cad2b1f5",
            "e24e7b63096849fc8b290745429a103c",
            "955ac231d4124300bc2c03097a39a256",
            "69a57be4fda84d3aad2c0ecdced02f26",
            "1b84f3c6fa9c4599a59e765f1dda64bc",
            "a2e964b1261743deb4e21d847a85b3bb",
            "bd7eec057b9b463b8ec4a73124d44a90",
            "baf82e035dc745b7bacf4faca185daf1"
          ]
        },
        "id": "O0bB8_0zqe6H",
        "outputId": "b1dd909f-7cec-4a29-cbac-9e666c34692f"
      },
      "outputs": [
        {
          "data": {
            "application/vnd.jupyter.widget-view+json": {
              "model_id": "2a45951ace0247cca31065e5a3b66c8f",
              "version_major": 2,
              "version_minor": 0
            },
            "text/plain": [
              "Computing transition probabilities:   0%|          | 0/410 [00:00<?, ?it/s]"
            ]
          },
          "metadata": {},
          "output_type": "display_data"
        },
        {
          "name": "stderr",
          "output_type": "stream",
          "text": [
            "Generating walks (CPU: 1): 100%|██████████| 200/200 [00:22<00:00,  8.82it/s]\n"
          ]
        }
      ],
      "source": [
        "from node2vec import Node2Vec\n",
        "\n",
        "node2vec = Node2Vec(G, dimensions=64, walk_length=20, num_walks=200, p=2, q=1, workers=1)\n",
        "\n",
        "model = node2vec.fit(window=10, min_count=1, batch_words=4)"
      ]
    },
    {
      "cell_type": "code",
      "execution_count": 16,
      "metadata": {
        "id": "ImKP41Ybrnhw"
      },
      "outputs": [
        {
          "name": "stdout",
          "output_type": "stream",
          "text": [
            "Return of the Jedi (1983): 0.61\n",
            "Raiders of the Lost Ark (1981): 0.55\n",
            "Godfather, The (1972): 0.49\n",
            "Indiana Jones and the Last Crusade (1989): 0.46\n",
            "White Squall (1996): 0.44\n"
          ]
        }
      ],
      "source": [
        "def recommend(movie):\n",
        "    movie_id = str(movies[movies.title == movie].movie_id.values[0])\n",
        "    for id in model.wv.most_similar(movie_id)[:5]:\n",
        "        title = movies[movies.movie_id == int(id[0])].title.values[0]\n",
        "        print(f'{title}: {id[1]:.2f}')\n",
        "\n",
        "recommend('Star Wars (1977)')"
      ]
    }
  ],
  "metadata": {
    "colab": {
      "provenance": []
    },
    "kernelspec": {
      "display_name": "book",
      "language": "python",
      "name": "python3"
    },
    "language_info": {
      "codemirror_mode": {
        "name": "ipython",
        "version": 3
      },
      "file_extension": ".py",
      "mimetype": "text/x-python",
      "name": "python",
      "nbconvert_exporter": "python",
      "pygments_lexer": "ipython3",
      "version": "3.10.4"
    },
    "vscode": {
      "interpreter": {
        "hash": "3556630122da5213751af4465d61fcf5a52cd22515d400aee51118aaa1721248"
      }
    },
    "widgets": {
      "application/vnd.jupyter.widget-state+json": {
        "0214cb6383934ef1856188a9cad2b1f5": {
          "model_module": "@jupyter-widgets/controls",
          "model_module_version": "1.5.0",
          "model_name": "HTMLModel",
          "state": {
            "_dom_classes": [],
            "_model_module": "@jupyter-widgets/controls",
            "_model_module_version": "1.5.0",
            "_model_name": "HTMLModel",
            "_view_count": null,
            "_view_module": "@jupyter-widgets/controls",
            "_view_module_version": "1.5.0",
            "_view_name": "HTMLView",
            "description": "",
            "description_tooltip": null,
            "layout": "IPY_MODEL_bd7eec057b9b463b8ec4a73124d44a90",
            "placeholder": "​",
            "style": "IPY_MODEL_baf82e035dc745b7bacf4faca185daf1",
            "value": " 643/643 [01:35&lt;00:00, 45.27it/s]"
          }
        },
        "1b84f3c6fa9c4599a59e765f1dda64bc": {
          "model_module": "@jupyter-widgets/base",
          "model_module_version": "1.2.0",
          "model_name": "LayoutModel",
          "state": {
            "_model_module": "@jupyter-widgets/base",
            "_model_module_version": "1.2.0",
            "_model_name": "LayoutModel",
            "_view_count": null,
            "_view_module": "@jupyter-widgets/base",
            "_view_module_version": "1.2.0",
            "_view_name": "LayoutView",
            "align_content": null,
            "align_items": null,
            "align_self": null,
            "border": null,
            "bottom": null,
            "display": null,
            "flex": null,
            "flex_flow": null,
            "grid_area": null,
            "grid_auto_columns": null,
            "grid_auto_flow": null,
            "grid_auto_rows": null,
            "grid_column": null,
            "grid_gap": null,
            "grid_row": null,
            "grid_template_areas": null,
            "grid_template_columns": null,
            "grid_template_rows": null,
            "height": null,
            "justify_content": null,
            "justify_items": null,
            "left": null,
            "margin": null,
            "max_height": null,
            "max_width": null,
            "min_height": null,
            "min_width": null,
            "object_fit": null,
            "object_position": null,
            "order": null,
            "overflow": null,
            "overflow_x": null,
            "overflow_y": null,
            "padding": null,
            "right": null,
            "top": null,
            "visibility": null,
            "width": null
          }
        },
        "69a57be4fda84d3aad2c0ecdced02f26": {
          "model_module": "@jupyter-widgets/controls",
          "model_module_version": "1.5.0",
          "model_name": "DescriptionStyleModel",
          "state": {
            "_model_module": "@jupyter-widgets/controls",
            "_model_module_version": "1.5.0",
            "_model_name": "DescriptionStyleModel",
            "_view_count": null,
            "_view_module": "@jupyter-widgets/base",
            "_view_module_version": "1.2.0",
            "_view_name": "StyleView",
            "description_width": ""
          }
        },
        "7cfb833108bb4948bd900d8ea79f6ea7": {
          "model_module": "@jupyter-widgets/controls",
          "model_module_version": "1.5.0",
          "model_name": "HTMLModel",
          "state": {
            "_dom_classes": [],
            "_model_module": "@jupyter-widgets/controls",
            "_model_module_version": "1.5.0",
            "_model_name": "HTMLModel",
            "_view_count": null,
            "_view_module": "@jupyter-widgets/controls",
            "_view_module_version": "1.5.0",
            "_view_name": "HTMLView",
            "description": "",
            "description_tooltip": null,
            "layout": "IPY_MODEL_955ac231d4124300bc2c03097a39a256",
            "placeholder": "​",
            "style": "IPY_MODEL_69a57be4fda84d3aad2c0ecdced02f26",
            "value": "Computing transition probabilities: 100%"
          }
        },
        "90e8a5c45e93473d8566096dcda21b00": {
          "model_module": "@jupyter-widgets/controls",
          "model_module_version": "1.5.0",
          "model_name": "FloatProgressModel",
          "state": {
            "_dom_classes": [],
            "_model_module": "@jupyter-widgets/controls",
            "_model_module_version": "1.5.0",
            "_model_name": "FloatProgressModel",
            "_view_count": null,
            "_view_module": "@jupyter-widgets/controls",
            "_view_module_version": "1.5.0",
            "_view_name": "ProgressView",
            "bar_style": "success",
            "description": "",
            "description_tooltip": null,
            "layout": "IPY_MODEL_1b84f3c6fa9c4599a59e765f1dda64bc",
            "max": 643,
            "min": 0,
            "orientation": "horizontal",
            "style": "IPY_MODEL_a2e964b1261743deb4e21d847a85b3bb",
            "value": 643
          }
        },
        "955ac231d4124300bc2c03097a39a256": {
          "model_module": "@jupyter-widgets/base",
          "model_module_version": "1.2.0",
          "model_name": "LayoutModel",
          "state": {
            "_model_module": "@jupyter-widgets/base",
            "_model_module_version": "1.2.0",
            "_model_name": "LayoutModel",
            "_view_count": null,
            "_view_module": "@jupyter-widgets/base",
            "_view_module_version": "1.2.0",
            "_view_name": "LayoutView",
            "align_content": null,
            "align_items": null,
            "align_self": null,
            "border": null,
            "bottom": null,
            "display": null,
            "flex": null,
            "flex_flow": null,
            "grid_area": null,
            "grid_auto_columns": null,
            "grid_auto_flow": null,
            "grid_auto_rows": null,
            "grid_column": null,
            "grid_gap": null,
            "grid_row": null,
            "grid_template_areas": null,
            "grid_template_columns": null,
            "grid_template_rows": null,
            "height": null,
            "justify_content": null,
            "justify_items": null,
            "left": null,
            "margin": null,
            "max_height": null,
            "max_width": null,
            "min_height": null,
            "min_width": null,
            "object_fit": null,
            "object_position": null,
            "order": null,
            "overflow": null,
            "overflow_x": null,
            "overflow_y": null,
            "padding": null,
            "right": null,
            "top": null,
            "visibility": null,
            "width": null
          }
        },
        "a2e964b1261743deb4e21d847a85b3bb": {
          "model_module": "@jupyter-widgets/controls",
          "model_module_version": "1.5.0",
          "model_name": "ProgressStyleModel",
          "state": {
            "_model_module": "@jupyter-widgets/controls",
            "_model_module_version": "1.5.0",
            "_model_name": "ProgressStyleModel",
            "_view_count": null,
            "_view_module": "@jupyter-widgets/base",
            "_view_module_version": "1.2.0",
            "_view_name": "StyleView",
            "bar_color": null,
            "description_width": ""
          }
        },
        "baf82e035dc745b7bacf4faca185daf1": {
          "model_module": "@jupyter-widgets/controls",
          "model_module_version": "1.5.0",
          "model_name": "DescriptionStyleModel",
          "state": {
            "_model_module": "@jupyter-widgets/controls",
            "_model_module_version": "1.5.0",
            "_model_name": "DescriptionStyleModel",
            "_view_count": null,
            "_view_module": "@jupyter-widgets/base",
            "_view_module_version": "1.2.0",
            "_view_name": "StyleView",
            "description_width": ""
          }
        },
        "bd7eec057b9b463b8ec4a73124d44a90": {
          "model_module": "@jupyter-widgets/base",
          "model_module_version": "1.2.0",
          "model_name": "LayoutModel",
          "state": {
            "_model_module": "@jupyter-widgets/base",
            "_model_module_version": "1.2.0",
            "_model_name": "LayoutModel",
            "_view_count": null,
            "_view_module": "@jupyter-widgets/base",
            "_view_module_version": "1.2.0",
            "_view_name": "LayoutView",
            "align_content": null,
            "align_items": null,
            "align_self": null,
            "border": null,
            "bottom": null,
            "display": null,
            "flex": null,
            "flex_flow": null,
            "grid_area": null,
            "grid_auto_columns": null,
            "grid_auto_flow": null,
            "grid_auto_rows": null,
            "grid_column": null,
            "grid_gap": null,
            "grid_row": null,
            "grid_template_areas": null,
            "grid_template_columns": null,
            "grid_template_rows": null,
            "height": null,
            "justify_content": null,
            "justify_items": null,
            "left": null,
            "margin": null,
            "max_height": null,
            "max_width": null,
            "min_height": null,
            "min_width": null,
            "object_fit": null,
            "object_position": null,
            "order": null,
            "overflow": null,
            "overflow_x": null,
            "overflow_y": null,
            "padding": null,
            "right": null,
            "top": null,
            "visibility": null,
            "width": null
          }
        },
        "e24e7b63096849fc8b290745429a103c": {
          "model_module": "@jupyter-widgets/base",
          "model_module_version": "1.2.0",
          "model_name": "LayoutModel",
          "state": {
            "_model_module": "@jupyter-widgets/base",
            "_model_module_version": "1.2.0",
            "_model_name": "LayoutModel",
            "_view_count": null,
            "_view_module": "@jupyter-widgets/base",
            "_view_module_version": "1.2.0",
            "_view_name": "LayoutView",
            "align_content": null,
            "align_items": null,
            "align_self": null,
            "border": null,
            "bottom": null,
            "display": null,
            "flex": null,
            "flex_flow": null,
            "grid_area": null,
            "grid_auto_columns": null,
            "grid_auto_flow": null,
            "grid_auto_rows": null,
            "grid_column": null,
            "grid_gap": null,
            "grid_row": null,
            "grid_template_areas": null,
            "grid_template_columns": null,
            "grid_template_rows": null,
            "height": null,
            "justify_content": null,
            "justify_items": null,
            "left": null,
            "margin": null,
            "max_height": null,
            "max_width": null,
            "min_height": null,
            "min_width": null,
            "object_fit": null,
            "object_position": null,
            "order": null,
            "overflow": null,
            "overflow_x": null,
            "overflow_y": null,
            "padding": null,
            "right": null,
            "top": null,
            "visibility": null,
            "width": null
          }
        },
        "eeb0f16e73a44771a4cd98b296a2f504": {
          "model_module": "@jupyter-widgets/controls",
          "model_module_version": "1.5.0",
          "model_name": "HBoxModel",
          "state": {
            "_dom_classes": [],
            "_model_module": "@jupyter-widgets/controls",
            "_model_module_version": "1.5.0",
            "_model_name": "HBoxModel",
            "_view_count": null,
            "_view_module": "@jupyter-widgets/controls",
            "_view_module_version": "1.5.0",
            "_view_name": "HBoxView",
            "box_style": "",
            "children": [
              "IPY_MODEL_7cfb833108bb4948bd900d8ea79f6ea7",
              "IPY_MODEL_90e8a5c45e93473d8566096dcda21b00",
              "IPY_MODEL_0214cb6383934ef1856188a9cad2b1f5"
            ],
            "layout": "IPY_MODEL_e24e7b63096849fc8b290745429a103c"
          }
        }
      }
    }
  },
  "nbformat": 4,
  "nbformat_minor": 0
}
