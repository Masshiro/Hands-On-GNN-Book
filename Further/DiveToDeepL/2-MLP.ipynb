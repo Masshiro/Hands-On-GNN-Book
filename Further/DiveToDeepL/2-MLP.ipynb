{
 "cells": [
  {
   "attachments": {},
   "cell_type": "markdown",
   "metadata": {},
   "source": [
    "# 1 MLP基础"
   ]
  },
  {
   "attachments": {},
   "cell_type": "markdown",
   "metadata": {},
   "source": [
    "# 2 MLP从零开始实现\n",
    "## 2.1 初始化模型参数\n",
    "- 可将每个图像视为具有784个输入特征以及10个类的简单分类数据集\n",
    "- 实现一个**具有单隐藏层的MLP**\n",
    "  - 包含256个隐藏单元\n",
    "  - 通常选择2的若⼲次幂作为层的宽度\n",
    "  - 用几个张量表示参数\n",
    "  - 每层都要记录一个权重矩阵和一个偏置向量\n",
    "  - 要为参数的梯度分配内存\n",
    "## 2.2 激活函数及模型\n",
    "- 自定义实现ReLU函数\n",
    "- 忽略图像的空间结构：\n",
    "  - 使用`reshape`将每个二维图像转换为一个长度为`num_input`的向量"
   ]
  },
  {
   "cell_type": "code",
   "execution_count": 32,
   "metadata": {},
   "outputs": [],
   "source": [
    "import torch\n",
    "from torch import nn\n",
    "import torchvision \n",
    "from torch.utils import data \n",
    "from torchvision import transforms\n",
    "import d2l_utils as d2l"
   ]
  },
  {
   "cell_type": "code",
   "execution_count": 33,
   "metadata": {},
   "outputs": [
    {
     "ename": "NameError",
     "evalue": "name 'transforms' is not defined",
     "output_type": "error",
     "traceback": [
      "\u001b[0;31m---------------------------------------------------------------------------\u001b[0m",
      "\u001b[0;31mNameError\u001b[0m                                 Traceback (most recent call last)",
      "\u001b[1;32m/Users/masshiro/Projects/GraphDDoS/Hands-On-GNN-Book/Further/DiveToDeepL/2-MLP.ipynb Cell 4\u001b[0m in \u001b[0;36m<cell line: 6>\u001b[0;34m()\u001b[0m\n\u001b[1;32m      <a href='vscode-notebook-cell:/Users/masshiro/Projects/GraphDDoS/Hands-On-GNN-Book/Further/DiveToDeepL/2-MLP.ipynb#W3sZmlsZQ%3D%3D?line=0'>1</a>\u001b[0m \u001b[39m# import torch\u001b[39;00m\n\u001b[1;32m      <a href='vscode-notebook-cell:/Users/masshiro/Projects/GraphDDoS/Hands-On-GNN-Book/Further/DiveToDeepL/2-MLP.ipynb#W3sZmlsZQ%3D%3D?line=1'>2</a>\u001b[0m \u001b[39m# from torch import nn\u001b[39;00m\n\u001b[1;32m      <a href='vscode-notebook-cell:/Users/masshiro/Projects/GraphDDoS/Hands-On-GNN-Book/Further/DiveToDeepL/2-MLP.ipynb#W3sZmlsZQ%3D%3D?line=2'>3</a>\u001b[0m \u001b[39m# import d2l_utils as d2l\u001b[39;00m\n\u001b[1;32m      <a href='vscode-notebook-cell:/Users/masshiro/Projects/GraphDDoS/Hands-On-GNN-Book/Further/DiveToDeepL/2-MLP.ipynb#W3sZmlsZQ%3D%3D?line=4'>5</a>\u001b[0m batch_size \u001b[39m=\u001b[39m \u001b[39m256\u001b[39m\n\u001b[0;32m----> <a href='vscode-notebook-cell:/Users/masshiro/Projects/GraphDDoS/Hands-On-GNN-Book/Further/DiveToDeepL/2-MLP.ipynb#W3sZmlsZQ%3D%3D?line=5'>6</a>\u001b[0m train_iter, test_iter \u001b[39m=\u001b[39m d2l\u001b[39m.\u001b[39;49mload_data_fashion_mnist(batch_size)\n\u001b[1;32m      <a href='vscode-notebook-cell:/Users/masshiro/Projects/GraphDDoS/Hands-On-GNN-Book/Further/DiveToDeepL/2-MLP.ipynb#W3sZmlsZQ%3D%3D?line=6'>7</a>\u001b[0m num_inputs, num_outputs, num_hiddens \u001b[39m=\u001b[39m \u001b[39m784\u001b[39m, \u001b[39m10\u001b[39m, \u001b[39m256\u001b[39m\n\u001b[1;32m      <a href='vscode-notebook-cell:/Users/masshiro/Projects/GraphDDoS/Hands-On-GNN-Book/Further/DiveToDeepL/2-MLP.ipynb#W3sZmlsZQ%3D%3D?line=8'>9</a>\u001b[0m W1 \u001b[39m=\u001b[39m nn\u001b[39m.\u001b[39mParameter(torch\u001b[39m.\u001b[39mrandn(num_inputs, num_hiddens, requires_grad\u001b[39m=\u001b[39m\u001b[39mTrue\u001b[39;00m) \u001b[39m*\u001b[39m \u001b[39m0.01\u001b[39m)\n",
      "File \u001b[0;32m~/Projects/GraphDDoS/Hands-On-GNN-Book/Further/DiveToDeepL/d2l_utils.py:5\u001b[0m, in \u001b[0;36mload_data_fashion_mnist\u001b[0;34m(batch_size, resize)\u001b[0m\n\u001b[1;32m      4\u001b[0m \u001b[39mdef\u001b[39;00m \u001b[39mload_data_fashion_mnist\u001b[39m(batch_size, resize\u001b[39m=\u001b[39m\u001b[39mNone\u001b[39;00m):\n\u001b[0;32m----> 5\u001b[0m     trans \u001b[39m=\u001b[39m [transforms\u001b[39m.\u001b[39mToTensor()]\n\u001b[1;32m      6\u001b[0m     \u001b[39mif\u001b[39;00m resize:\n\u001b[1;32m      7\u001b[0m         trans\u001b[39m.\u001b[39minsert(\u001b[39m0\u001b[39m, transforms\u001b[39m.\u001b[39mResize(resize))\n",
      "\u001b[0;31mNameError\u001b[0m: name 'transforms' is not defined"
     ]
    }
   ],
   "source": [
    "# import torch\n",
    "# from torch import nn\n",
    "# import d2l_utils as d2l\n",
    "\n",
    "batch_size = 256\n",
    "train_iter, test_iter = d2l.load_data_fashion_mnist(batch_size)\n",
    "num_inputs, num_outputs, num_hiddens = 784, 10, 256\n",
    "\n",
    "W1 = nn.Parameter(torch.randn(num_inputs, num_hiddens, requires_grad=True) * 0.01)\n",
    "b1 = nn.Parameter(torch.zeros(num_hiddens, requires_grad=True))\n",
    "W2 = nn.Parameter(torch.randn(num_hiddens, num_outputs, requires_grad=True) * 0.01)\n",
    "b2 = nn.Parameter(torch.zeros(num_outputs, requires_grad=True))\n",
    "params = [W1, b1, W2, b2]\n",
    "\n",
    "def relu(X):\n",
    "    a = torch.zeros_like(X)\n",
    "    return torch.max(X, a)\n",
    "\n",
    "def net(X):\n",
    "    X = X.reshape((-1, num_inputs))\n",
    "    H = relu(X@W1 + b1)\n",
    "    return (H@W2 + b2)\n",
    "\n",
    "loss = nn.CrossEntropyLoss(reduction='none')\n",
    "\n"
   ]
  }
 ],
 "metadata": {
  "kernelspec": {
   "display_name": "Python 3",
   "language": "python",
   "name": "python3"
  },
  "language_info": {
   "codemirror_mode": {
    "name": "ipython",
    "version": 3
   },
   "file_extension": ".py",
   "mimetype": "text/x-python",
   "name": "python",
   "nbconvert_exporter": "python",
   "pygments_lexer": "ipython3",
   "version": "3.10.4"
  },
  "orig_nbformat": 4
 },
 "nbformat": 4,
 "nbformat_minor": 2
}
