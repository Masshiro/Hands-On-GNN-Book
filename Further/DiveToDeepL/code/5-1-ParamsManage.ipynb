{
 "cells": [
  {
   "cell_type": "markdown",
   "metadata": {},
   "source": [
    "# 参数管理\n",
    "- 一个具有单隐藏层的多层感知机"
   ]
  },
  {
   "cell_type": "code",
   "execution_count": 2,
   "metadata": {},
   "outputs": [
    {
     "data": {
      "text/plain": [
       "tensor([[-0.2565],\n",
       "        [-0.1735]], grad_fn=<AddmmBackward0>)"
      ]
     },
     "execution_count": 2,
     "metadata": {},
     "output_type": "execute_result"
    }
   ],
   "source": [
    "import torch\n",
    "from torch import nn\n",
    "\n",
    "net = nn.Sequential(\n",
    "    nn.Linear(4, 8),\n",
    "    nn.ReLU(),\n",
    "    nn.Linear(8, 1)\n",
    ")\n",
    "\n",
    "X = torch.rand(size=(2, 4))\n",
    "net(X)"
   ]
  },
  {
   "cell_type": "markdown",
   "metadata": {},
   "source": [
    "## 1 参数访问\n",
    "- `Sequential`类定义模型时，可以通过索引来访问模型的任意层\n",
    "- 下例检查第二个全链接层的参数："
   ]
  },
  {
   "cell_type": "code",
   "execution_count": 6,
   "metadata": {},
   "outputs": [
    {
     "name": "stdout",
     "output_type": "stream",
     "text": [
      "OrderedDict([('weight', tensor([[ 0.3191,  0.0691,  0.2181,  0.0097,  0.3390,  0.1413, -0.2261, -0.0797]])), ('bias', tensor([-0.2553]))])\n"
     ]
    }
   ],
   "source": [
    "print(net[2].state_dict())"
   ]
  },
  {
   "cell_type": "markdown",
   "metadata": {},
   "source": [
    "每个参数均可表示为参数类的一个实例\n",
    "- 要对参数执行任何操作，首先需要访问底层的数值\n",
    "- 参数是复合的对象，包含值、梯度和额外信息\n",
    "- 由于我们还没有调⽤反向传播，所以参数的梯度处于初始状态"
   ]
  },
  {
   "cell_type": "code",
   "execution_count": 9,
   "metadata": {},
   "outputs": [
    {
     "name": "stdout",
     "output_type": "stream",
     "text": [
      "Parameter containing:\n",
      "tensor([-0.2553], requires_grad=True)\n",
      "<class 'torch.nn.parameter.Parameter'>\n",
      "tensor([-0.2553])\n"
     ]
    },
    {
     "data": {
      "text/plain": [
       "True"
      ]
     },
     "execution_count": 9,
     "metadata": {},
     "output_type": "execute_result"
    }
   ],
   "source": [
    "print(net[2].bias)          # 从第二个全链接层提取偏置\n",
    "print(type(net[2].bias))    # 提取后为一个参数类实例\n",
    "print(net[2].bias.data)     # 进一步访问参数的值\n",
    "net[2].weight.grad == None  # 可以访问参数的梯度"
   ]
  },
  {
   "cell_type": "markdown",
   "metadata": {},
   "source": [
    "可以一次性访问所有参数\n",
    "- 下例访问第一个全链接层参数&所有层"
   ]
  },
  {
   "cell_type": "code",
   "execution_count": 11,
   "metadata": {},
   "outputs": [
    {
     "name": "stdout",
     "output_type": "stream",
     "text": [
      "('weight', torch.Size([8, 4])) ('bias', torch.Size([8]))\n",
      "('0.weight', torch.Size([8, 4])) ('0.bias', torch.Size([8])) ('2.weight', torch.Size([1, 8])) ('2.bias', torch.Size([1]))\n"
     ]
    },
    {
     "data": {
      "text/plain": [
       "tensor([-0.2553])"
      ]
     },
     "execution_count": 11,
     "metadata": {},
     "output_type": "execute_result"
    }
   ],
   "source": [
    "print(*[(name, param.shape) for name, param in net[0].named_parameters()])\n",
    "print(*[(name, param.shape) for name, param in net.named_parameters()])\n",
    "net.state_dict()['2.bias'].data     # 另一种访问网络参数的方式"
   ]
  },
  {
   "cell_type": "markdown",
   "metadata": {},
   "source": [
    "从嵌套块收集参数\n",
    "- 首先定义一个生成块的函数\n",
    "- 然后将这些块组合到更大的块中"
   ]
  },
  {
   "cell_type": "code",
   "execution_count": 14,
   "metadata": {},
   "outputs": [
    {
     "name": "stdout",
     "output_type": "stream",
     "text": [
      "Sequential(\n",
      "  (0): Sequential(\n",
      "    (block 0): Sequential(\n",
      "      (0): Linear(in_features=4, out_features=8, bias=True)\n",
      "      (1): ReLU()\n",
      "      (2): Linear(in_features=8, out_features=4, bias=True)\n",
      "      (3): ReLU()\n",
      "    )\n",
      "    (block 1): Sequential(\n",
      "      (0): Linear(in_features=4, out_features=8, bias=True)\n",
      "      (1): ReLU()\n",
      "      (2): Linear(in_features=8, out_features=4, bias=True)\n",
      "      (3): ReLU()\n",
      "    )\n",
      "    (block 2): Sequential(\n",
      "      (0): Linear(in_features=4, out_features=8, bias=True)\n",
      "      (1): ReLU()\n",
      "      (2): Linear(in_features=8, out_features=4, bias=True)\n",
      "      (3): ReLU()\n",
      "    )\n",
      "    (block 3): Sequential(\n",
      "      (0): Linear(in_features=4, out_features=8, bias=True)\n",
      "      (1): ReLU()\n",
      "      (2): Linear(in_features=8, out_features=4, bias=True)\n",
      "      (3): ReLU()\n",
      "    )\n",
      "  )\n",
      "  (1): Linear(in_features=4, out_features=1, bias=True)\n",
      ")\n"
     ]
    },
    {
     "data": {
      "text/plain": [
       "tensor([ 0.4470,  0.1001, -0.2954,  0.4456, -0.4326,  0.0224,  0.3010, -0.3956])"
      ]
     },
     "execution_count": 14,
     "metadata": {},
     "output_type": "execute_result"
    }
   ],
   "source": [
    "def block1():\n",
    "    return nn.Sequential(\n",
    "        nn.Linear(4, 8), nn.ReLU(), nn.Linear(8, 4), nn.ReLU())\n",
    "\n",
    "def block2(num_blocks):\n",
    "    net = nn.Sequential()\n",
    "    assert num_blocks > 0\n",
    "    for i in range(num_blocks):\n",
    "        # 在这里嵌套\n",
    "        net.add_module(f'block {i}', block1())\n",
    "    return net\n",
    "\n",
    "rgnet = nn.Sequential(block2(4), nn.Linear(4, 1))\n",
    "rgnet(X)\n",
    "print(rgnet)    # 查看其如何工作\n",
    "rgnet[0][1][0].bias.data"
   ]
  },
  {
   "cell_type": "markdown",
   "metadata": {},
   "source": [
    "## 2 参数初始化\n",
    "\n",
    "### 内置初始化\n",
    "- 调用内置初始化器，实现如下示例：\n",
    "  - 将所有权重参数初始化为标准差为0.01的⾼斯随机变量，且将偏置参数设置为0\n",
    "  - 将所有参数初始化为给定常数（如：1）\n",
    "  - 使⽤Xavier初始化⽅法初始化第⼀个神经⽹络层，然后将第三个神经⽹络层初始化为常量值42"
   ]
  },
  {
   "cell_type": "code",
   "execution_count": 19,
   "metadata": {},
   "outputs": [
    {
     "name": "stdout",
     "output_type": "stream",
     "text": [
      "高斯随机变量初始化：\n",
      "tensor([-8.8606e-03,  7.8507e-05, -2.0108e-04,  4.2726e-03]) tensor(0.)\n",
      "常数初始化：\n",
      "tensor([1., 1., 1., 1.]) tensor(0.)\n",
      "Xavier及常数初始化：\n",
      "tensor([-0.0086, -0.1018,  0.1445,  0.0710])\n",
      "tensor([[42., 42., 42., 42., 42., 42., 42., 42.]])\n"
     ]
    }
   ],
   "source": [
    "def init_normal(m):\n",
    "    if type(m) == nn.Linear:\n",
    "        nn.init.normal_(m.weight, mean=0, std=0.01) \n",
    "        nn.init.zeros_(m.bias) \n",
    "net.apply(init_normal)\n",
    "print(\"高斯随机变量初始化：\")\n",
    "print(net[0].weight.data[0], net[0].bias.data[0])\n",
    "\n",
    "def init_constant(m):\n",
    "    if type(m) == nn.Linear:\n",
    "        nn.init.constant_(m.weight, 1) \n",
    "        nn.init.zeros_(m.bias) \n",
    "net.apply(init_constant)\n",
    "print(\"常数初始化：\")\n",
    "print(net[0].weight.data[0], net[0].bias.data[0])\n",
    "\n",
    "def init_xavier(m):\n",
    "    if type(m) == nn.Linear:\n",
    "        nn.init.xavier_uniform_(m.weight) \n",
    "def init_42(m):\n",
    "    if type(m) == nn.Linear:\n",
    "        nn.init.constant_(m.weight, 42)\n",
    "net[0].apply(init_xavier) \n",
    "net[2].apply(init_42) \n",
    "print(\"Xavier及常数初始化：\")\n",
    "print(net[0].weight.data[0]) \n",
    "print(net[2].weight.data)"
   ]
  },
  {
   "cell_type": "markdown",
   "metadata": {},
   "source": [
    "### 自定义初始化\n",
    "- 使用如下分布为任意权重参数$w$定义初始化方法：\n",
    "  $$\n",
    "  w\\sim\n",
    "  \\begin{cases}\n",
    "  U(5,10), &\\text{可能性为}\\frac{1}{4}\\\\\n",
    "  0, &\\text{可能性为}\\frac{1}{2}\\\\\n",
    "  U(-10,-5), &\\text{可能性为}\\frac{1}{4}\\\\\n",
    "  \\end{cases}\n",
    "  $$ "
   ]
  },
  {
   "cell_type": "code",
   "execution_count": 20,
   "metadata": {},
   "outputs": [
    {
     "name": "stdout",
     "output_type": "stream",
     "text": [
      "Init weight torch.Size([8, 4])\n",
      "Init weight torch.Size([1, 8])\n"
     ]
    },
    {
     "data": {
      "text/plain": [
       "tensor([[ 8.3120, -8.6498, -7.2368, -9.4957],\n",
       "        [ 0.0000, -9.5502, -6.0680, -6.1492]], grad_fn=<SliceBackward0>)"
      ]
     },
     "execution_count": 20,
     "metadata": {},
     "output_type": "execute_result"
    }
   ],
   "source": [
    "def my_init(m):\n",
    "    if type(m) == nn.Linear:\n",
    "        print(\"Init\", *[(name, param.shape) for name, param in m.named_parameters()][0])\n",
    "        nn.init.uniform_(m.weight, -10, 10)\n",
    "        m.weight.data *= m.weight.data.abs() >= 5\n",
    "\n",
    "net.apply(my_init) \n",
    "net[0].weight[:2]"
   ]
  },
  {
   "cell_type": "markdown",
   "metadata": {},
   "source": [
    "# 自定义层\n",
    "\n",
    "## 1 不带参数的层\n",
    "- 下面`CenteredLayer`类从其输入中减去均值\n",
    "  - 要构建它，只需继承基础层类并实现前向传播功能"
   ]
  },
  {
   "cell_type": "code",
   "execution_count": 2,
   "metadata": {},
   "outputs": [
    {
     "name": "stdout",
     "output_type": "stream",
     "text": [
      "mean is  tensor(3.)\n",
      "tensor([-2., -1.,  0.,  1.,  2.])\n"
     ]
    },
    {
     "data": {
      "text/plain": [
       "tensor(0., grad_fn=<MeanBackward0>)"
      ]
     },
     "execution_count": 2,
     "metadata": {},
     "output_type": "execute_result"
    }
   ],
   "source": [
    "import torch\n",
    "import torch.nn.functional as F\n",
    "from torch import nn\n",
    "\n",
    "class CenteredLayer(nn.Module):\n",
    "    def __init__(self):\n",
    "        super().__init__()\n",
    "    \n",
    "    def forward(self, X):\n",
    "        return X - X.mean()\n",
    "\n",
    "\n",
    "layer = CenteredLayer()\n",
    "X = torch.FloatTensor([1, 2, 3, 4, 5])\n",
    "print(\"mean is \", X.mean())\n",
    "print(layer(X))\n",
    "\n",
    "\"\"\"将层作为组件合并到更复杂的模型中\"\"\"\n",
    "net = nn.Sequential(nn.Linear(8, 128), CenteredLayer())\n",
    "Y = net(torch.rand(4, 8))\n",
    "Y.mean()      # 检查均值是否为0"
   ]
  },
  {
   "cell_type": "markdown",
   "metadata": {},
   "source": [
    "## 2 带参数的层\n",
    "- 参数可通过训练进行调整\n",
    "- 可以使用内置函数来创建参数：这些函数提供一些基本的管理功能\n",
    "  - 管理访问、初始化、共享、保存和加载模型参数\n",
    "  - 好处：不需要为每个自定义层编写自定义的序列化程序\n",
    "- 下例：\n",
    "  - 自定义版本全链接层\n",
    "    - 两个参数：权重&偏置项\n",
    "  - 使用线性单元作为激活函数\n",
    "  - 该层输入`in_units`和`units`两个参数，分别表示输入、输出数"
   ]
  },
  {
   "cell_type": "code",
   "execution_count": 3,
   "metadata": {},
   "outputs": [
    {
     "name": "stdout",
     "output_type": "stream",
     "text": [
      "Parameter containing:\n",
      "tensor([[ 1.1062, -1.8787,  0.2373],\n",
      "        [ 0.8050, -0.0774,  2.1255],\n",
      "        [ 1.7420,  1.4888,  0.1608],\n",
      "        [ 0.3053, -0.0812,  0.6678],\n",
      "        [-1.7589, -0.3222, -1.1672]], requires_grad=True)\n"
     ]
    },
    {
     "data": {
      "text/plain": [
       "tensor([[2.6638],\n",
       "        [7.9402]])"
      ]
     },
     "execution_count": 3,
     "metadata": {},
     "output_type": "execute_result"
    }
   ],
   "source": [
    "class MyLinear(nn.Module):\n",
    "    def __init__(self, in_units, units):\n",
    "        super().__init__()\n",
    "        self.weight = nn.Parameter(torch.randn(in_units, units))\n",
    "        self.bias = nn.Parameter(torch.randn(units,))\n",
    "    \n",
    "    def forward(self, X):\n",
    "        linear = torch.matmul(X, self.weight.data) + self.bias.data\n",
    "        return F.relu(linear)\n",
    "\n",
    "\"\"\"实例化该类并访问模型参数\"\"\"\n",
    "linear = MyLinear(5, 3)\n",
    "print(linear.weight)\n",
    "\n",
    "\"\"\"前向传播\"\"\"\n",
    "linear(torch.rand(2, 5))\n",
    "\n",
    "\"\"\"使用自定义层构建模型\"\"\"\n",
    "net = nn.Sequential(MyLinear(64, 8), MyLinear(8, 1))\n",
    "net(torch.rand(2, 64))"
   ]
  }
 ],
 "metadata": {
  "kernelspec": {
   "display_name": "Python 3",
   "language": "python",
   "name": "python3"
  },
  "language_info": {
   "codemirror_mode": {
    "name": "ipython",
    "version": 3
   },
   "file_extension": ".py",
   "mimetype": "text/x-python",
   "name": "python",
   "nbconvert_exporter": "python",
   "pygments_lexer": "ipython3",
   "version": "3.10.4"
  },
  "orig_nbformat": 4
 },
 "nbformat": 4,
 "nbformat_minor": 2
}
