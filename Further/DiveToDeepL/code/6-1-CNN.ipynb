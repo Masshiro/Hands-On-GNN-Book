{
 "cells": [
  {
   "cell_type": "markdown",
   "metadata": {},
   "source": [
    "# 图像卷积\n",
    "## 1 互相关运算\n",
    "- 严格讲，卷积层所表达的运算实际为互相关运算\n",
    "- 卷积层中，输入张量与核张量通过相关运算产生输出张量\n",
    "- 实现`corr2d`：\n",
    "  - 接收输入张量`X`、卷积核张量`K`\n",
    "  - 输出张量`Y`"
   ]
  },
  {
   "cell_type": "code",
   "execution_count": 1,
   "metadata": {},
   "outputs": [
    {
     "data": {
      "text/plain": [
       "tensor([[19., 25.],\n",
       "        [37., 43.]])"
      ]
     },
     "execution_count": 1,
     "metadata": {},
     "output_type": "execute_result"
    }
   ],
   "source": [
    "import torch\n",
    "from torch import nn\n",
    "\n",
    "def corr2d(X, K):\n",
    "    \"\"\"计算⼆维互相关运算\"\"\"\n",
    "    h, w = K.shape\n",
    "    Y = torch.zeros((X.shape[0] - h + 1, X.shape[1] - w + 1))\n",
    "    for i in range(Y.shape[0]):\n",
    "        for j in range(Y.shape[1]):\n",
    "            Y[i, j] = (X[i:i + h, j:j + w] * K).sum()\n",
    "    return Y\n",
    "\n",
    "X = torch.tensor([[0.0, 1.0, 2.0], [3.0, 4.0, 5.0], [6.0, 7.0, 8.0]]) \n",
    "K = torch.tensor([[0.0, 1.0], [2.0, 3.0]]) \n",
    "corr2d(X, K)"
   ]
  },
  {
   "cell_type": "markdown",
   "metadata": {},
   "source": [
    "## 2 卷积层\n",
    "- 卷积层对输入和卷积核权重进行互相关运算，并在添加标量偏置后产生输出\n",
    "- 卷积层中的两个被训练的参数是\n",
    "  - 卷积核权重\n",
    "  - 标量偏置"
   ]
  },
  {
   "cell_type": "code",
   "execution_count": null,
   "metadata": {},
   "outputs": [],
   "source": [
    "class Conv2D(nn.Module):\n",
    "    def __init__(self, kernel_size):\n",
    "        super().__init__() \n",
    "        self.weight = nn.Parameter(torch.rand(kernel_size)) \n",
    "        self.bias = nn.Parameter(torch.zeros(1))\n",
    "\n",
    "def forward(self, x):\n",
    "    return corr2d(x, self.weight) + self.bias"
   ]
  },
  {
   "cell_type": "markdown",
   "metadata": {},
   "source": [
    "**图像中目标的边缘检测**\n",
    "- 构造一个$6\\times 8$像素的黑白图像：\n",
    "  - 中间4列为黑色（0）\n",
    "  - 其余为白色（1）\n",
    "- 构造一个高度为1、宽度为2的卷积核`K`\n",
    "- 相互运算时，若水平相邻的两元素相同，则输出为0，否则为非0\n",
    "- 下例中，输出`Y`元素中：\n",
    "  - 1: 白色到黑色的边缘\n",
    "  - -1: 黑色到白色的边缘\n",
    "  - 0: 其余"
   ]
  },
  {
   "cell_type": "code",
   "execution_count": 5,
   "metadata": {},
   "outputs": [
    {
     "name": "stdout",
     "output_type": "stream",
     "text": [
      "X = \n",
      " tensor([[1., 1., 0., 0., 0., 0., 1., 1.],\n",
      "        [1., 1., 0., 0., 0., 0., 1., 1.],\n",
      "        [1., 1., 0., 0., 0., 0., 1., 1.],\n",
      "        [1., 1., 0., 0., 0., 0., 1., 1.],\n",
      "        [1., 1., 0., 0., 0., 0., 1., 1.],\n",
      "        [1., 1., 0., 0., 0., 0., 1., 1.]])\n",
      "Y = \n",
      " tensor([[ 0.,  1.,  0.,  0.,  0., -1.,  0.],\n",
      "        [ 0.,  1.,  0.,  0.,  0., -1.,  0.],\n",
      "        [ 0.,  1.,  0.,  0.,  0., -1.,  0.],\n",
      "        [ 0.,  1.,  0.,  0.,  0., -1.,  0.],\n",
      "        [ 0.,  1.,  0.,  0.,  0., -1.,  0.],\n",
      "        [ 0.,  1.,  0.,  0.,  0., -1.,  0.]])\n"
     ]
    }
   ],
   "source": [
    "X = torch.ones((6, 8))\n",
    "X[:, 2:6] = 0\n",
    "print(\"X = \\n\", X)\n",
    "K = torch.tensor([[1.0, -1.0]])\n",
    "Y = corr2d(X, K)\n",
    "print(\"Y = \\n\", Y)"
   ]
  },
  {
   "cell_type": "markdown",
   "metadata": {},
   "source": [
    "**学习卷积核**\n",
    "- 当有了更复杂数值的卷积核，或者 连续的卷积层时，我们不可能⼿动设计滤波器\n",
    "- 下例探究可以通过仅查看“输⼊-输出”对来学习由`X`⽣成`Y`的卷积核\n",
    "  - 先构造⼀个卷积层，并将其卷积核初始化为随机张量\n",
    "  - 每次迭代中，⽐较`Y`与卷积层输出的平⽅误差，然后计算梯度来更新卷积核"
   ]
  },
  {
   "cell_type": "code",
   "execution_count": 11,
   "metadata": {},
   "outputs": [
    {
     "name": "stdout",
     "output_type": "stream",
     "text": [
      "epoch 2, loss 11.924\n",
      "epoch 4, loss 3.634\n",
      "epoch 6, loss 1.279\n",
      "epoch 8, loss 0.488\n",
      "epoch 10, loss 0.194\n",
      "epoch 12, loss 0.079\n",
      "epoch 14, loss 0.032\n",
      "epoch 16, loss 0.013\n",
      "epoch 18, loss 0.005\n",
      "epoch 20, loss 0.002\n"
     ]
    },
    {
     "data": {
      "text/plain": [
       "tensor([[ 0.9950, -1.0047]])"
      ]
     },
     "execution_count": 11,
     "metadata": {},
     "output_type": "execute_result"
    }
   ],
   "source": [
    "# 构造⼀个⼆维卷积层，它具有1个输出通道和形状为（1，2）的卷积核 \n",
    "conv2d = nn.Conv2d(1,1, kernel_size=(1, 2), bias=False)\n",
    "\n",
    "# 这个⼆维卷积层使⽤四维输⼊和输出格式（批量⼤⼩、通道、⾼度、宽度）， \n",
    "# 其中批量⼤⼩和通道数都为1\n",
    "X = X.reshape((1, 1, 6, 8)) \n",
    "Y = Y.reshape((1, 1, 6, 7)) \n",
    "lr = 3e-2 # 学习率\n",
    "\n",
    "for i in range(20):\n",
    "    Y_hat = conv2d(X)\n",
    "    l = (Y_hat - Y) ** 2\n",
    "    conv2d.zero_grad()\n",
    "    l.sum().backward()\n",
    "    # 迭代卷积核\n",
    "    conv2d.weight.data[:] -= lr * conv2d.weight.grad\n",
    "    if (i + 1) % 2 == 0:\n",
    "        print(f'epoch {i+1}, loss {l.sum():.3f}')\n",
    "\n",
    "conv2d.weight.data.reshape((1, 2))"
   ]
  }
 ],
 "metadata": {
  "kernelspec": {
   "display_name": "Python 3",
   "language": "python",
   "name": "python3"
  },
  "language_info": {
   "codemirror_mode": {
    "name": "ipython",
    "version": 3
   },
   "file_extension": ".py",
   "mimetype": "text/x-python",
   "name": "python",
   "nbconvert_exporter": "python",
   "pygments_lexer": "ipython3",
   "version": "3.10.4"
  },
  "orig_nbformat": 4
 },
 "nbformat": 4,
 "nbformat_minor": 2
}
