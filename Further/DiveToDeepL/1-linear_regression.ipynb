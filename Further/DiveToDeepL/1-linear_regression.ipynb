{
 "cells": [
  {
   "attachments": {},
   "cell_type": "markdown",
   "metadata": {},
   "source": [
    "# 1 线性回归从零实现\n",
    "- 了解细致的工作原理：\n",
    "  - 方便自定义模型、自定义层或自定义损失函数\n",
    "- 只使用张量&自动求导"
   ]
  },
  {
   "cell_type": "code",
   "execution_count": 2,
   "metadata": {},
   "outputs": [],
   "source": [
    "%matplotlib inline \n",
    "import random \n",
    "import torch"
   ]
  },
  {
   "attachments": {},
   "cell_type": "markdown",
   "metadata": {},
   "source": [
    "## 1.1 生成数据集\n",
    "- 使用低维数据\n",
    "- 带有噪声\n",
    "- 生成1000个样本：\n",
    "  - 每个样本包含从正态分布中采样的2个特征\n",
    "  - 合成数据集为一个矩阵$\\mathbf{X}\\in\\mathbb{R}^{1000\\times2}$\n",
    "\n",
    "- 使用线性参数$\\mathbf{w}=[2,-3.4]^\\top$、$b=4.2$以及$\\epsilon$生成数据集和标签\n",
    "  - $\\epsilon$服从均值为0的正态分布\n",
    "  - 将标准差设为0.01"
   ]
  },
  {
   "cell_type": "code",
   "execution_count": 3,
   "metadata": {},
   "outputs": [
    {
     "name": "stdout",
     "output_type": "stream",
     "text": [
      "features: tensor([1.4279, 0.2739]) \n",
      "label: tensor([6.1256])\n"
     ]
    }
   ],
   "source": [
    "true_w = torch.tensor([2, -3.4])\n",
    "true_b = 4.2\n",
    "def synthetic_data(w, b, num_examples):\n",
    "    X = torch.normal(0, 1, (num_examples, len(w)))\n",
    "    y = torch.matmul(X, w) + b\n",
    "    y += torch.normal(0, 0.01, y.shape)\n",
    "    return X, y.reshape((-1, 1))\n",
    "\n",
    "features, labels = synthetic_data(true_w, true_b, 1000)\n",
    "print('features:', features[0],'\\nlabel:', labels[0])"
   ]
  },
  {
   "attachments": {},
   "cell_type": "markdown",
   "metadata": {},
   "source": [
    "## 1.2 读取数据集\n",
    "- 训练模型时需要对数据集进行遍历，每次抽取一小批量样本，并使用其更新模型\n",
    "- 需要定义一个函数：\n",
    "  - 可以打乱数据集中的样本\n",
    "  - 并以小批量方式获取数据\n",
    "- 定义该函数为`data_iter`\n",
    "  - 接收参数：批大小、特征矩阵和标签向量\n",
    "  - 输出：大小为`batch_size`的小批量\n",
    "- `yeild`关键字\n",
    "  - `yield`与`return`的区别是，`return`会返回一个最终的值，并结束函数的执行，而`yield`可以返回多个值，并保持函数的状态\n",
    "  - 可以用来在一个函数中返回一个生成器对象。生成器是一种特殊的函数，它不会一次性返回所有的值，而是每次返回一个值，然后暂停执行，直到下一次请求。\n",
    "  - 当一个带有yield的函数被调用时，执行会停在`yield`语句处，并在生成器被迭代时从那里继续\n",
    "- 注意：\n",
    "  - 下述函数在实际应用中**执行效率很低**\n",
    "  - 要求所有数据加载到内存并且执行大量随机内存访问"
   ]
  },
  {
   "cell_type": "code",
   "execution_count": 4,
   "metadata": {},
   "outputs": [],
   "source": [
    "def data_iter(batch_size, features, labels):\n",
    "    num_examples = len(features)\n",
    "    indices = list(range(num_examples))\n",
    "    random.shuffle(indices)  # Shuffle list in place, and return None.\n",
    "    for i in range(0, num_examples, batch_size):\n",
    "        batch_indices = torch.tensor (\n",
    "            indices[i: min(i + batch_size, num_examples)])\n",
    "        yield features[batch_indices], labels[batch_indices]"
   ]
  },
  {
   "cell_type": "code",
   "execution_count": 5,
   "metadata": {},
   "outputs": [
    {
     "name": "stdout",
     "output_type": "stream",
     "text": [
      "tensor([[-9.5216e-01,  2.5541e+00],\n",
      "        [ 7.8420e-01, -2.6760e-01],\n",
      "        [ 2.7995e+00, -4.6068e-01],\n",
      "        [-1.9362e+00,  3.9122e-01],\n",
      "        [-1.2951e+00,  7.0328e-01],\n",
      "        [-7.3248e-01,  5.1956e-01],\n",
      "        [-9.9845e-01, -6.4231e-01],\n",
      "        [-8.6781e-01, -1.4415e+00],\n",
      "        [-8.3266e-01,  2.2954e-01],\n",
      "        [ 4.8541e-01, -1.2994e-03]]) \n",
      " tensor([[-6.3802],\n",
      "        [ 6.6957],\n",
      "        [11.3690],\n",
      "        [-1.0046],\n",
      "        [-0.7848],\n",
      "        [ 0.9809],\n",
      "        [ 4.3920],\n",
      "        [ 7.3657],\n",
      "        [ 1.7546],\n",
      "        [ 5.1867]])\n"
     ]
    }
   ],
   "source": [
    "batch_size = 10\n",
    "\n",
    "for X, y in data_iter(batch_size, features, labels):\n",
    "    print(X, '\\n', y) \n",
    "    break"
   ]
  },
  {
   "attachments": {},
   "cell_type": "markdown",
   "metadata": {},
   "source": [
    "## 1.3 初始化模型参数\n",
    "- 在使用小批量随机梯度下降优化模型参数前，需要先有一些参数\n",
    "  - 通过从均值为0、标准差为0.01的正态分布中采样随机数来初始化权重，并将偏置初始化为0\n",
    "- 初始化参数后，更新它们，使得其足以拟合数据\n",
    "  - 每次更新都要计算损失函数关于模型参数的梯度\n",
    "  - 有该梯度，则可向减少损失的方向更新每个参数"
   ]
  },
  {
   "cell_type": "code",
   "execution_count": 6,
   "metadata": {},
   "outputs": [
    {
     "name": "stdout",
     "output_type": "stream",
     "text": [
      "Initialized parameters:\n",
      " \tw =  tensor([[0.0265],\n",
      "        [0.0108]], requires_grad=True) \n",
      "\tb =  tensor([0.], requires_grad=True)\n"
     ]
    }
   ],
   "source": [
    "w = torch.normal(0, 0.01, size=(2,1), requires_grad=True) \n",
    "b = torch.zeros(1, requires_grad=True)\n",
    "\n",
    "print(\"Initialized parameters:\\n\", \"\\tw = \", w, \"\\n\\tb = \", b)"
   ]
  },
  {
   "attachments": {},
   "cell_type": "markdown",
   "metadata": {},
   "source": [
    "## 1.4 定义模型及损失函数\n",
    "- 定义模型：\n",
    "  - 将模型的输入和参数同模型的输出关联起来\n",
    "  - 计算输出：输入特征$\\mathbf{X}$和模型权重$\\mathbf{w}$的矩阵-向量乘法后再加上一个偏置$b$\n",
    "- 定义损失函数：\n",
    "  - 使用平方损失函数\n",
    "  - 实现时，需要将真实值`y`的形状转换为和预测值`y_hat`的形状相同"
   ]
  },
  {
   "cell_type": "code",
   "execution_count": 7,
   "metadata": {},
   "outputs": [],
   "source": [
    "def linreg(X, w, b):\n",
    "    return torch.matmul(X, w) + b\n",
    "\n",
    "def squared_loss(y_hat, y):\n",
    "    return (y_hat - y.reshape(y_hat.shape)) ** 2 / 2"
   ]
  },
  {
   "attachments": {},
   "cell_type": "markdown",
   "metadata": {},
   "source": [
    "## 1.5 定义优化算法\n",
    "- 定义函数实现小批量随机梯度下降更新\n",
    "  - 从数据集中随机抽取⼀个⼩批量，然后根据参数计算损失的梯度\n",
    "  - 朝着减少损失的⽅向更新参数\n",
    "- 输入：模型参数集合、学习速率（`lr`）和批大小"
   ]
  },
  {
   "cell_type": "code",
   "execution_count": 8,
   "metadata": {},
   "outputs": [],
   "source": [
    "def sgd(params, lr, batch_size):\n",
    "    with torch.no_grad():\n",
    "        for param in params:\n",
    "            param -= lr * param.grad / batch_size\n",
    "            param.grad.zero_()"
   ]
  },
  {
   "attachments": {},
   "cell_type": "markdown",
   "metadata": {},
   "source": [
    "## 1.6 训练\n",
    "- 需要**重点理解**这部分代码，日后反复用到\n",
    "- 每次迭代中，读取小批量训练样本，并通过模型来获得一组预测\n",
    "- 计算完损失后，开始反向传播，存储每个参数的梯度\n",
    "- 最后调用优化算法`sgd`来更新参数\n",
    "- 概括而言，执行以下循环：\n",
    "  - 初始化参数\n",
    "  - 重复训练，直至完成：\n",
    "    - 计算梯度：$\\mathbf{g}\\leftarrow \\partial_{(\\mathbf{w},b)}\\frac{1}{\\vert \\mathcal{B}\\vert}\\sum_{i\\in \\mathcal{B}} l(\\mathbf{x}^{(i)}, y^{(i)}, \\mathbf{w}, b)$ \n",
    "    - 更新参数：$(\\mathbf{w},b)\\leftarrow (\\mathbf{w},b)-\\eta \\mathbf{g}$\n",
    "- 每个epoch，使用`data_iter`函数便利整个数据集，并将训练数据集中所有样本都使用一次\n",
    "- 超参数：\n",
    "  - `num_epochs=3`：迭代周期数\n",
    "  - `lr=0.03`：学习率"
   ]
  },
  {
   "cell_type": "code",
   "execution_count": 9,
   "metadata": {},
   "outputs": [
    {
     "name": "stdout",
     "output_type": "stream",
     "text": [
      "epoch 1, loss 0.031201\n",
      "epoch 2, loss 0.000108\n",
      "epoch 3, loss 0.000050\n",
      "w的估计误差: tensor([7.8678e-06, 2.5105e-04], grad_fn=<SubBackward0>)\n",
      "b的估计误差: tensor([0.0009], grad_fn=<RsubBackward1>)\n"
     ]
    }
   ],
   "source": [
    "lr = 0.03\n",
    "num_epochs = 3\n",
    "net = linreg\n",
    "loss = squared_loss\n",
    "\n",
    "for epoch in range(num_epochs):\n",
    "    for X, y in data_iter(batch_size, features, labels):\n",
    "        l = loss(net(X, w, b), y) # X和y的小批量损失\n",
    "        # 因为l形状是(batch_size,1)，⽽不是⼀个标量。l中的所有元素被加到⼀起，\n",
    "        # 并以此计算关于[w,b]的梯度\n",
    "        l.sum().backward()\n",
    "        sgd([w, b], lr, batch_size) # 使⽤参数的梯度更新参数\n",
    "    with torch.no_grad():\n",
    "        train_l = loss(net(features, w, b), labels)\n",
    "        print(f'epoch {epoch + 1}, loss {float(train_l.mean()):f}')\n",
    "\n",
    "print(f'w的估计误差: {true_w - w.reshape(true_w.shape)}')\n",
    "print(f'b的估计误差: {true_b - b}')"
   ]
  },
  {
   "attachments": {},
   "cell_type": "markdown",
   "metadata": {},
   "source": [
    "# 2 线性回归简洁实现\n",
    "## 2.1 生成并读取数据集\n",
    "- 读取数据集时:\n",
    "  - 调用框架中现有的API读取\n",
    "  - 将`features`和`labels`作为API的参数进行传递\n",
    "  - `is_train`表示是否希望数据迭代器对象在每次迭代周期内打乱数据\n",
    "- 验证`data_iter`函数是否工作正常：\n",
    "  - `iter`构造Python迭代器\n",
    "  - `next`从迭代器中获取第一项\n",
    "- `torch.utils.data.TensorDataset(*tensors)`\n",
    "  - Dataset wrapping tensors.\n",
    "  - Each sample will be retrieved by indexing tensors along the first dimension.\n",
    "  - Parameters: tensors that have the same size of the first dimension.\n",
    "- https://pytorch.org/docs/stable/data.html"
   ]
  },
  {
   "cell_type": "code",
   "execution_count": 13,
   "metadata": {},
   "outputs": [
    {
     "data": {
      "text/plain": [
       "[tensor([[-0.9024, -1.8544],\n",
       "         [ 0.5155,  0.3252],\n",
       "         [-0.8818,  0.5197],\n",
       "         [-1.2885, -1.6814],\n",
       "         [ 2.0525, -1.6112],\n",
       "         [-0.6939,  0.0654],\n",
       "         [-2.3988,  0.2450],\n",
       "         [ 0.0368,  0.3900],\n",
       "         [-0.0907,  0.3949],\n",
       "         [-0.3948, -0.0078]]),\n",
       " tensor([[ 8.7124],\n",
       "         [ 4.1138],\n",
       "         [ 0.6605],\n",
       "         [ 7.3374],\n",
       "         [13.7739],\n",
       "         [ 2.5949],\n",
       "         [-1.4277],\n",
       "         [ 2.9623],\n",
       "         [ 2.6690],\n",
       "         [ 3.4386]])]"
      ]
     },
     "execution_count": 13,
     "metadata": {},
     "output_type": "execute_result"
    }
   ],
   "source": [
    "import numpy as np\n",
    "import torch\n",
    "from torch.utils import data\n",
    "\n",
    "true_w = torch.tensor([2, -3.4])\n",
    "true_b = 4.2\n",
    "features, labels = synthetic_data(true_w, true_b, 1000)\n",
    "\n",
    "# print(type(features), features.shape)\n",
    "# print(type(labels), labels.shape)\n",
    "\n",
    "def load_array(data_arrays, batch_size, is_train=True):\n",
    "    dataset = data.TensorDataset(*data_arrays)\n",
    "    return data.DataLoader(dataset, batch_size, shuffle=is_train)\n",
    "\n",
    "batch_size = 10\n",
    "data_iter = load_array((features, labels), batch_size)\n",
    "next(iter(data_iter))"
   ]
  },
  {
   "attachments": {},
   "cell_type": "markdown",
   "metadata": {},
   "source": [
    "## 2.2 定义模型\n",
    "- 对于标准深度学习模型，可以使用可使用框架预定义好的层\n",
    "  - 只需关心使用哪些层来构造模型\n",
    "  - 不必关心实现细节\n",
    "- 首先定义一个模型变量`net`\n",
    "  - 是一个`Sequential`类的实例，该类将多个层串联起来\n",
    "  - 给定输入后，实例将数据传⼊到第⼀层，然后将第⼀层的输出作为第⼆层的输⼊\n",
    "- PyTorch中，全连接层在`Linear`类中定义\n",
    "  - 将两个参数传递到`nn.Linear`：\n",
    "    - 第一个：指定输入特征形状，即为$2$\n",
    "    - 第二个：指定输出特征形状，输出特征形状为单个标量，即$1$"
   ]
  },
  {
   "cell_type": "code",
   "execution_count": 14,
   "metadata": {},
   "outputs": [],
   "source": [
    "from torch import nn\n",
    "\n",
    "net = nn.Sequential(nn.Linear(2, 1))"
   ]
  },
  {
   "attachments": {},
   "cell_type": "markdown",
   "metadata": {},
   "source": [
    "## 2.3 初始化模型参数\n",
    "- 使用`net`之前，我们要初始化模型参数\n",
    "  - 线性回归模型中的权重与偏置\n",
    "  - 深度学习架构通常有**预定义的⽅法**来初始化参数\n",
    "  - 此处指定每个权重参数应该从均值为0、标准差为0.01的正态分布中随机采样，偏置参数将初始化为零\n",
    "- 可以直接访问参数以设定他们的初始值\n",
    "  - `net[0]`选择网络中的第一个图层\n",
    "  - `weight.data`以及`bias.data`访问参数\n",
    "  - `normal_`和`fill_`重写参数"
   ]
  },
  {
   "cell_type": "code",
   "execution_count": 15,
   "metadata": {},
   "outputs": [
    {
     "data": {
      "text/plain": [
       "tensor([0.])"
      ]
     },
     "execution_count": 15,
     "metadata": {},
     "output_type": "execute_result"
    }
   ],
   "source": [
    "net[0].weight.data.normal_(0, 0.01) \n",
    "net[0].bias.data.fill_(0)"
   ]
  },
  {
   "attachments": {},
   "cell_type": "markdown",
   "metadata": {},
   "source": [
    "## 2.4 定义损失函数与优化算法\n",
    "- 损失函数：\n",
    "  - 均方误差使用`MSELoss`类，也称平方$L_2$范数\n",
    "  - 默认返回所有样本损失的平均值\n",
    "- 优化算法：\n",
    "  - PyTorch在`optim`模块中实现很多⼩批量随机梯度下降算法及许多变种\n",
    "  - 实力化一个`SGD`实例后，需指定优化参数\n",
    "    - 可通过`net.parameters()`从模型中获得"
   ]
  },
  {
   "cell_type": "code",
   "execution_count": 16,
   "metadata": {},
   "outputs": [],
   "source": [
    "loss = nn.MSELoss()\n",
    "trainer = torch.optim.SGD(net.parameters(), lr=0.03)"
   ]
  },
  {
   "attachments": {},
   "cell_type": "markdown",
   "metadata": {},
   "source": [
    "## 2.5 训练\n",
    "- 每个迭代周期，需完整遍历一次数据集，不停地从中获取⼀个⼩批量的输 ⼊和相应的标签\n",
    "- 对于每⼀个⼩批量：\n",
    "  - 通过调⽤`net(X)`⽣成预测并计算损失`l`（前向传播）\n",
    "  - 通过进⾏反向传播来计算梯度\n",
    "  - 通过调⽤优化器来更新模型参数"
   ]
  },
  {
   "cell_type": "code",
   "execution_count": 18,
   "metadata": {},
   "outputs": [
    {
     "name": "stdout",
     "output_type": "stream",
     "text": [
      "epoch 1, loss 0.000105\n",
      "epoch 2, loss 0.000105\n",
      "epoch 3, loss 0.000104\n",
      "w的估计误差： tensor([4.1485e-05, 8.4376e-04])\n",
      "b的估计误差： tensor([0.0002])\n"
     ]
    }
   ],
   "source": [
    "num_epochs = 3\n",
    "for epoch in range(num_epochs):\n",
    "    for X, y in data_iter:\n",
    "        l = loss(net(X) ,y)\n",
    "        trainer.zero_grad()\n",
    "        l.backward()\n",
    "        trainer.step()\n",
    "    l = loss(net(features), labels)\n",
    "    print(f'epoch {epoch + 1}, loss {l:f}')\n",
    "\n",
    "w = net[0].weight.data\n",
    "print('w的估计误差：', true_w - w.reshape(true_w.shape))\n",
    "b = net[0].bias.data\n",
    "print('b的估计误差：', true_b - b)"
   ]
  },
  {
   "attachments": {},
   "cell_type": "markdown",
   "metadata": {},
   "source": [
    "# 3 softmax回归\n",
    "- 也是一种单层神经网络\n",
    "   ![](https://raw.githubusercontent.com/Masshiro/TyporaImages/master/20230714141029.png)\n",
    "- 使用向量形式表达：$\\mathbf{o}=\\mathbf{Wx}+\\mathbf{b}$\n",
    "- 全链接层的参数开销：\n",
    "  - 具体而言：对于任何具有$d$个输入和$q$个输出的全链接层，参数开销为$\\mathcal{O}(dq)$\n",
    "  - 可自定义超参数$n$来减少开销至$\\mathcal{O}(\\frac{dq}{n})$\n",
    "## 3.1 softmax运算\n",
    "- 若要将输出视为概率，必须保证在任何数据上的输出都是非负且总和为1\n",
    "- 同时需要一个训练的目标函数，来激励模型估计概率\n",
    "- softmax函数：将为规范化的预测变换为⾮负数并且总和为1，同时让模型保持可导的性质：\n",
    "  - $$\\hat{\\mathbf{y}}=\\text{softmax}(\\mathbf{o}), \\;\\text{ where } \\hat{y}_j=\\frac{\\exp(o_j)}{\\sum_{k}\\exp(o_k)}$$\n",
    "\n",
    "## 3.2 图像分类数据集\n",
    "- 使用类似MNIST但更复杂的Fashion-MNIST数据集\n",
    "- 使用`ToTensor`实例将图像数据从PIL类型转换为32位浮点数格式"
   ]
  },
  {
   "cell_type": "code",
   "execution_count": 33,
   "metadata": {},
   "outputs": [],
   "source": [
    "import torch \n",
    "import torchvision \n",
    "from torch.utils import data \n",
    "from torchvision import transforms\n",
    "import matplotlib.pyplot as plt\n",
    "\n",
    "trans = transforms.ToTensor() \n",
    "\n",
    "mnist_train = torchvision.datasets.FashionMNIST(\n",
    "    root=\"../dataset\", train=True, transform=trans, download=True) \n",
    "\n",
    "mnist_test = torchvision.datasets.FashionMNIST(\n",
    "    root=\"../dataset\", train=False, transform=trans, download=True)"
   ]
  },
  {
   "attachments": {},
   "cell_type": "markdown",
   "metadata": {},
   "source": [
    "- Fashion-MNIST由10个类别的图像组成\n",
    "  - 每个类别：训练数据集（6000张）+ 测试数据集（1000张）\n",
    "- 每个输入图像的高度与宽度均为28像素\n",
    "  - 数据由灰度图像组成，通道数为1"
   ]
  },
  {
   "cell_type": "code",
   "execution_count": 25,
   "metadata": {},
   "outputs": [
    {
     "name": "stdout",
     "output_type": "stream",
     "text": [
      "60000 10000\n",
      "torch.Size([1, 28, 28])\n"
     ]
    }
   ],
   "source": [
    "print(len(mnist_train), len(mnist_test))\n",
    "print(mnist_train[0][0].shape)"
   ]
  },
  {
   "attachments": {},
   "cell_type": "markdown",
   "metadata": {},
   "source": [
    "- Fashion-MNIST中包含10个类别\n",
    "- 以下函数⽤于在数字标签索引及其⽂本名称之间进⾏转换"
   ]
  },
  {
   "cell_type": "code",
   "execution_count": 29,
   "metadata": {},
   "outputs": [],
   "source": [
    "def get_fashion_mnist_labels(labels):\n",
    "    \"\"\"返回Fashion-MNIST数据集的文本标签\"\"\"\n",
    "    text_labels = ['t-shirt', 'trouser', 'pullover', 'dress', 'coat',\n",
    "                   'sandal', 'shirt', 'sneaker', 'bag', 'ankle boot']\n",
    "    return [text_labels[int(i)] for i in labels]\n",
    "\n",
    "def show_images(imgs, num_rows, num_cols, titles=None, scale=1.5):  #@save\n",
    "    \"\"\"绘制图像列表\"\"\"\n",
    "    figsize = (num_cols * scale, num_rows * scale)\n",
    "    _, axes = plt.subplots(num_rows, num_cols, figsize=figsize)\n",
    "    axes = axes.flatten()\n",
    "    for i, (ax, img) in enumerate(zip(axes, imgs)):\n",
    "        if torch.is_tensor(img):\n",
    "            # 图片张量\n",
    "            ax.imshow(img.numpy())\n",
    "        else:\n",
    "            # PIL图片\n",
    "            ax.imshow(img)\n",
    "        ax.axes.get_xaxis().set_visible(False)\n",
    "        ax.axes.get_yaxis().set_visible(False)\n",
    "        if titles:\n",
    "            ax.set_title(titles[i])\n",
    "    return axes"
   ]
  },
  {
   "attachments": {},
   "cell_type": "markdown",
   "metadata": {},
   "source": [
    "- 训练集中，前几个样本的图像及其对应的标签"
   ]
  },
  {
   "cell_type": "code",
   "execution_count": 34,
   "metadata": {},
   "outputs": [
    {
     "data": {
      "image/png": "[encoded data removed]",
      "text/plain": [
       "<Figure size 972x216 with 18 Axes>"
      ]
     },
     "metadata": {
      "needs_background": "light"
     },
     "output_type": "display_data"
    }
   ],
   "source": [
    "X, y = next(iter(data.DataLoader(mnist_train, batch_size=18)))\n",
    "show_images(X.reshape(18, 28, 28), 2, 9, titles=get_fashion_mnist_labels(y));"
   ]
  },
  {
   "attachments": {},
   "cell_type": "markdown",
   "metadata": {},
   "source": [
    "- 整合组件，定义`load_data_fashion_mnist`函数：\n",
    "  - 返回值：训练集、验证集的数据迭代器\n",
    "  - 输入参数：`resize`，将图像大小调整为另一种形状"
   ]
  },
  {
   "cell_type": "code",
   "execution_count": 35,
   "metadata": {},
   "outputs": [],
   "source": [
    "batch_size = 256\n",
    "\n",
    "def get_dataloader_workers():\n",
    "    return 4\n",
    "\n",
    "def load_data_fashion_mnist(batch_size, resize=None):\n",
    "    trans = [transforms.ToTensor()]\n",
    "    if resize:\n",
    "        trans.insert(0, transforms.Resize(resize))\n",
    "    trans = transforms.Compose(trans)\n",
    "    mnist_train = torchvision.datasets.FashionMNIST(\n",
    "        root=\"../dataset\", train=True, transform=trans, download=True)\n",
    "    mnist_test = torchvision.datasets.FashionMNIST(\n",
    "        root=\"../dataset\", train=False, transform=trans, download=True)\n",
    "    return (data.DataLoader(mnist_train, batch_size, shuffle=True,\n",
    "                            num_workers=get_dataloader_workers()),\n",
    "            data.DataLoader(mnist_test, batch_size, shuffle=False,\n",
    "                            num_workers=get_dataloader_workers()))"
   ]
  },
  {
   "attachments": {},
   "cell_type": "markdown",
   "metadata": {},
   "source": [
    "# 4 softmax从零开始实现\n"
   ]
  },
  {
   "cell_type": "code",
   "execution_count": 36,
   "metadata": {},
   "outputs": [],
   "source": [
    "import torch\n",
    "from IPython import display\n",
    "\n",
    "batch_size = 256\n",
    "train_iter, test_iter = load_data_fashion_mnist(batch_size)"
   ]
  }
 ],
 "metadata": {
  "kernelspec": {
   "display_name": "Python 3",
   "language": "python",
   "name": "python3"
  },
  "language_info": {
   "codemirror_mode": {
    "name": "ipython",
    "version": 3
   },
   "file_extension": ".py",
   "mimetype": "text/x-python",
   "name": "python",
   "nbconvert_exporter": "python",
   "pygments_lexer": "ipython3",
   "version": "3.11.4"
  },
  "orig_nbformat": 4
 },
 "nbformat": 4,
 "nbformat_minor": 2
}
