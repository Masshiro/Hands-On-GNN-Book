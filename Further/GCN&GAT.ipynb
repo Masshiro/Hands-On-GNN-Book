{
 "cells": [
  {
   "attachments": {},
   "cell_type": "markdown",
   "metadata": {},
   "source": [
    "# General Framework of GNNs\n",
    "- **Essential idea**: \n",
    "   iteratively update the node representations by combining the representations of their neighbors and their own representations.\n",
    "- Each layer has two important functions\n",
    "  \n",
    "- **Obtain node representation** with multiple layers:\n",
    "  - Initialization: $H^0=X$\n",
    "  - For $k=1,2,\\cdots, K$, where $K$ is total num of GNN layers:\n",
    "     $$a_v^k = \\textbf{AGGREGATE}^k\\{H_u^{k-1}: u\\in N(v)\\}$$\n",
    "     $$H_v^k = \\textbf{COMBINE}^k\\{ H_v^{k-1}, a_v^k \\}$$\n",
    "  - $H^k$: can be treated as the final node representation\n",
    "- **Apply node representation** for downstream tasks (e.g., node classification):\n",
    "  - label of node $v$ (denoted as $\\hat{y}_v$) can be predicted via:\n",
    "     $$\\hat{y}_v = \\text{Softmax}(WH_v^\\top)$$\n",
    "     - $W\\in\\mathbb{R}^{\\vert \\mathcal{L}\\vert\\times F}$, $\\vert\\mathcal{L}\\vert$ is the num of labels in the output space\n",
    "- **Train the model** via minimizing the loss function:\n",
    "  - $$O = \\frac{1}{n_l}\\sum_{i=1}^{n_l}\\text{loss}(\\hat{y}_i, y_i)$$\n",
    "    - $n_l$: num of labeled nodes\n",
    "    - $\\text{loss}(\\cdot,\\cdot)$: a loss function (e.g., cross-entropy loss function)\n",
    "  \n",
    "# Graph Convolutional Networks (GCN)\n",
    "- The node representation in each layer is updated as:\n",
    "  - $$H^{k+1}=\\sigma(\\tilde{D}^{-\\frac{1}{2}} \\tilde{A} \\tilde{D}^{-\\frac{1}{2}} H^k W^k)$$\n",
    "    - $\\tilde{A}=A+\\mathbf{I}$\n",
    "    - $\\tilde{D}$: a diagonal matrix with $\\tilde{D}_{ii}=\\sum_j\\tilde{A}_{ij}$\n",
    "    - $\\sigma(\\cdot)$: activation function such as `ReLU` and `Tanh`"
   ]
  },
  {
   "attachments": {},
   "cell_type": "markdown",
   "metadata": {},
   "source": [
    "- Download and load `Cora` dataset:"
   ]
  },
  {
   "cell_type": "markdown",
   "metadata": {},
   "source": []
  },
  {
   "cell_type": "code",
   "execution_count": 2,
   "metadata": {},
   "outputs": [],
   "source": [
    "from torch_geometric.datasets import Planetoid\n",
    "\n",
    "dataset = Planetoid(root='./dataset/Cora', name='Cora')"
   ]
  },
  {
   "attachments": {},
   "cell_type": "markdown",
   "metadata": {},
   "source": [
    "- Implementation GCN:\n",
    "  - defines two `GCNConv` layers which get called in the forward pass of network\n",
    "  - reference: https://pytorch-geometric.readthedocs.io/en/latest/get_started/introduction.html#learning-methods-on-graphs"
   ]
  },
  {
   "cell_type": "code",
   "execution_count": 6,
   "metadata": {},
   "outputs": [
    {
     "name": "stdout",
     "output_type": "stream",
     "text": [
      "Epoch   0 | Train Loss: 1.925 | Train Acc: 39.00% | Val Loss: 1.94 | Val Acc: 18.20%\n",
      "Epoch  20 | Train Loss: 0.120 | Train Acc: 71.30% | Val Loss: 0.95 | Val Acc: 70.00%\n",
      "Epoch  40 | Train Loss: 0.057 | Train Acc: 75.90% | Val Loss: 1.02 | Val Acc: 72.40%\n",
      "Epoch  60 | Train Loss: 0.032 | Train Acc: 75.00% | Val Loss: 0.89 | Val Acc: 74.80%\n",
      "Epoch  80 | Train Loss: 0.040 | Train Acc: 76.20% | Val Loss: 0.99 | Val Acc: 73.00%\n",
      "Epoch 100 | Train Loss: 0.033 | Train Acc: 74.40% | Val Loss: 0.92 | Val Acc: 76.20%\n",
      "Epoch 120 | Train Loss: 0.026 | Train Acc: 74.60% | Val Loss: 0.95 | Val Acc: 74.20%\n",
      "Epoch 140 | Train Loss: 0.016 | Train Acc: 75.70% | Val Loss: 0.97 | Val Acc: 74.00%\n",
      "Epoch 160 | Train Loss: 0.025 | Train Acc: 75.80% | Val Loss: 0.90 | Val Acc: 76.20%\n",
      "Epoch 180 | Train Loss: 0.036 | Train Acc: 76.30% | Val Loss: 0.90 | Val Acc: 73.60%\n",
      "Accuracy: 0.7940\n"
     ]
    }
   ],
   "source": [
    "import torch\n",
    "import torch.nn.functional as F\n",
    "from torch_geometric.nn import GCNConv\n",
    "\n",
    "def accuracy(pred_y, y):\n",
    "    return ((pred_y == y).sum() / len(y)).item()\n",
    "\n",
    "class GCN(torch.nn.Module):\n",
    "    def __init__(self, dim_in, dim_hid, dim_out):\n",
    "        super().__init__()\n",
    "        self.conv1 = GCNConv(dim_in, dim_hid)\n",
    "        self.conv2 = GCNConv(dim_hid, dim_out)\n",
    "\n",
    "    def forward(self, data):\n",
    "        x, edge_index = data.x, data.edge_index\n",
    "\n",
    "        x = self.conv1(x, edge_index)\n",
    "        x = F.relu(x)\n",
    "        x = F.dropout(x, training=self.training)\n",
    "        x = self.conv2(x, edge_index)\n",
    "\n",
    "        return F.log_softmax(x, dim=1)\n",
    "\n",
    "device = torch.device('cpu')\n",
    "model = GCN(dataset.num_features, 20, dataset.num_classes).to(device)\n",
    "data = dataset[0].to(device)\n",
    "optimizer = torch.optim.Adam(model.parameters(), lr=0.01, weight_decay=5e-4)\n",
    "\n",
    "model.train()\n",
    "for epoch in range(200):\n",
    "    optimizer.zero_grad()\n",
    "    out = model(data)\n",
    "    loss = F.nll_loss(out[data.train_mask], data.y[data.train_mask])\n",
    "    loss.backward()\n",
    "    optimizer.step()\n",
    "    pred = model(data).argmax(dim=1)\n",
    "    correct = (pred[data.test_mask] == data.y[data.test_mask]).sum()\n",
    "    acc = int(correct) / int(data.test_mask.sum())\n",
    "    if(epoch % 20 == 0):\n",
    "        val_loss = F.nll_loss(out[data.val_mask], data.y[data.val_mask])\n",
    "        val_acc = accuracy(out[data.val_mask].argmax(dim=1),\n",
    "                            data.y[data.val_mask])\n",
    "        print(f'Epoch {epoch:>3} | Train Loss: {loss:.3f} | Train Acc:'\n",
    "                f' {acc*100:>5.2f}% | Val Loss: {val_loss:.2f} | '\n",
    "                f'Val Acc: {val_acc*100:.2f}%')\n",
    "\n",
    "model.eval()\n",
    "pred = model(data).argmax(dim=1)\n",
    "correct = (pred[data.test_mask] == data.y[data.test_mask]).sum()\n",
    "acc = int(correct) / int(data.test_mask.sum())\n",
    "print(f'Accuracy: {acc:.4f}')"
   ]
  }
 ],
 "metadata": {
  "kernelspec": {
   "display_name": "Python 3",
   "language": "python",
   "name": "python3"
  },
  "language_info": {
   "codemirror_mode": {
    "name": "ipython",
    "version": 3
   },
   "file_extension": ".py",
   "mimetype": "text/x-python",
   "name": "python",
   "nbconvert_exporter": "python",
   "pygments_lexer": "ipython3",
   "version": "3.10.4"
  },
  "orig_nbformat": 4
 },
 "nbformat": 4,
 "nbformat_minor": 2
}
